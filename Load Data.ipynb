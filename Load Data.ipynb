{
 "cells": [
  {
   "cell_type": "code",
   "execution_count": 1,
   "metadata": {},
   "outputs": [],
   "source": [
    "import numpy as np\n",
    "from scipy.optimize import linprog\n",
    "import matplotlib.pyplot as plt\n",
    "from scipy.linalg import cho_factor, cho_solve"
   ]
  },
  {
   "cell_type": "code",
   "execution_count": 2,
   "metadata": {},
   "outputs": [],
   "source": [
    "A = np.load(\"A_matrix.npy\")\n",
    "B = np.load(\"B_matrix.npy\")\n",
    "c = np.load(\"C_matrix.npy\")"
   ]
  },
  {
   "cell_type": "code",
   "execution_count": 3,
   "metadata": {},
   "outputs": [
    {
     "name": "stdout",
     "output_type": "stream",
     "text": [
      "(6590, 12578)\n"
     ]
    }
   ],
   "source": [
    "A1 = np.eye(np.shape(A)[0], np.shape(A)[1])\n",
    "A = np.hstack([A, A1])\n",
    "print(np.shape(A))"
   ]
  },
  {
   "cell_type": "code",
   "execution_count": 4,
   "metadata": {},
   "outputs": [],
   "source": [
    "C = np.hstack([c, np.zeros(len(c))])"
   ]
  },
  {
   "cell_type": "code",
   "execution_count": 5,
   "metadata": {},
   "outputs": [],
   "source": [
    "At = np.transpose(A)\n",
    "AAt = np.dot(A, At)\n",
    "x = np.dot(np.linalg.inv(AAt), B)"
   ]
  },
  {
   "cell_type": "code",
   "execution_count": 6,
   "metadata": {},
   "outputs": [
    {
     "name": "stdout",
     "output_type": "stream",
     "text": [
      "[-3.85809603e-06 -1.94884957e-06  1.40604686e-07 ... -9.40691579e-10\n",
      " -9.43727086e-09 -2.22502953e-09]\n"
     ]
    }
   ],
   "source": [
    "print(x)"
   ]
  },
  {
   "cell_type": "code",
   "execution_count": 7,
   "metadata": {},
   "outputs": [
    {
     "name": "stdout",
     "output_type": "stream",
     "text": [
      "[-1.12402705e-10  1.12402705e-10  4.30743739e-10 ...  3.56424494e-09\n",
      " -3.56424494e-09  4.81087192e-09]\n"
     ]
    }
   ],
   "source": [
    "x = np.dot(At, x)\n",
    "print(x)"
   ]
  },
  {
   "cell_type": "code",
   "execution_count": 8,
   "metadata": {},
   "outputs": [
    {
     "name": "stdout",
     "output_type": "stream",
     "text": [
      "(6590,)\n"
     ]
    }
   ],
   "source": [
    "y = np.dot(A, C)\n",
    "y = np.dot(np.linalg.inv(AAt),(y))\n",
    "print(np.shape(y))"
   ]
  },
  {
   "cell_type": "code",
   "execution_count": 9,
   "metadata": {},
   "outputs": [],
   "source": [
    "s = C - np.dot(At, y)"
   ]
  },
  {
   "cell_type": "code",
   "execution_count": 10,
   "metadata": {},
   "outputs": [
    {
     "name": "stdout",
     "output_type": "stream",
     "text": [
      "(12578,)\n"
     ]
    }
   ],
   "source": [
    "print(np.shape(s))"
   ]
  },
  {
   "cell_type": "code",
   "execution_count": 11,
   "metadata": {},
   "outputs": [
    {
     "name": "stdout",
     "output_type": "stream",
     "text": [
      "0.00013700787388288234 2.500006019874031e-06\n"
     ]
    }
   ],
   "source": [
    "delta_x = 0.0\n",
    "delta_s = 0.0\n",
    "\n",
    "for i in range(0, len(x)):\n",
    "    delta_x = max(delta_x, -1.5*x[i])\n",
    "for i in range(0, len(s)):\n",
    "    delta_s = max(delta_s, -1.5*s[i])\n",
    "print(delta_x, delta_s)"
   ]
  },
  {
   "cell_type": "code",
   "execution_count": 12,
   "metadata": {},
   "outputs": [
    {
     "name": "stdout",
     "output_type": "stream",
     "text": [
      "6.850393694352647e-05 0.011967693221543743\n"
     ]
    }
   ],
   "source": [
    "for i in range(0, len(x)):\n",
    "    x[i] = x[i] + delta_x\n",
    "for i in range(0, len(s)):\n",
    "    s[i] = s[i] + delta_s\n",
    "\n",
    "o = np.ones(len(s))\n",
    "i_x = np.dot(x, s)\n",
    "i_y = np.dot(o, s)\n",
    "i_z = np.dot(o, x)\n",
    "delta_x = 0.5 * (i_x/i_y)\n",
    "delta_s = 0.5 * (i_x/i_z)\n",
    "print(delta_x, delta_s)"
   ]
  },
  {
   "cell_type": "code",
   "execution_count": 13,
   "metadata": {},
   "outputs": [
    {
     "name": "stdout",
     "output_type": "stream",
     "text": [
      "-0.00013700787388288237\n"
     ]
    }
   ],
   "source": [
    "mid = B - np.dot(A, x) \n",
    "print(min(mid))"
   ]
  },
  {
   "cell_type": "code",
   "execution_count": 14,
   "metadata": {},
   "outputs": [
    {
     "name": "stdout",
     "output_type": "stream",
     "text": [
      "0\n"
     ]
    }
   ],
   "source": [
    "k = 0\n",
    "for i in range(0, len(s)):\n",
    "    if (s[i] < 0):\n",
    "        k = k + 1\n",
    "print(k)"
   ]
  },
  {
   "cell_type": "code",
   "execution_count": 15,
   "metadata": {},
   "outputs": [],
   "source": [
    "for i in range(0, len(x)):\n",
    "    x[i] = x[i] + delta_x\n",
    "    s[i] = s[i] + delta_s"
   ]
  },
  {
   "cell_type": "code",
   "execution_count": 16,
   "metadata": {},
   "outputs": [
    {
     "name": "stdout",
     "output_type": "stream",
     "text": [
      "0\n"
     ]
    }
   ],
   "source": [
    "k = 0\n",
    "for i in range(0, len(s)):\n",
    "    if (s[i] < 0):\n",
    "        k = k + 1\n",
    "print(k)"
   ]
  },
  {
   "cell_type": "code",
   "execution_count": 17,
   "metadata": {},
   "outputs": [
    {
     "name": "stdout",
     "output_type": "stream",
     "text": [
      "0.00011417322823782059\n"
     ]
    }
   ],
   "source": [
    "m = 1000\n",
    "mx = 1000\n",
    "for i in range(0, len(x)):\n",
    "    m = min(m, x[i])\n",
    "for i in range(0, len(x)):\n",
    "    mx = min(mx, s[i])\n",
    "print(m)"
   ]
  },
  {
   "cell_type": "code",
   "execution_count": 18,
   "metadata": {},
   "outputs": [
    {
     "name": "stdout",
     "output_type": "stream",
     "text": [
      "0.0119685265568837\n"
     ]
    }
   ],
   "source": [
    "print(mx)"
   ]
  },
  {
   "cell_type": "code",
   "execution_count": 19,
   "metadata": {},
   "outputs": [],
   "source": [
    "k = 0\n",
    "for i in range(0, len(s)):\n",
    "    if (s[i] <= 0):\n",
    "        k = k + 1\n",
    "        "
   ]
  },
  {
   "cell_type": "code",
   "execution_count": 20,
   "metadata": {},
   "outputs": [
    {
     "name": "stdout",
     "output_type": "stream",
     "text": [
      "0\n"
     ]
    }
   ],
   "source": [
    "print(k)"
   ]
  },
  {
   "cell_type": "code",
   "execution_count": 21,
   "metadata": {},
   "outputs": [],
   "source": [
    "mid = B - np.dot(A, x) "
   ]
  },
  {
   "cell_type": "code",
   "execution_count": 22,
   "metadata": {},
   "outputs": [
    {
     "name": "stdout",
     "output_type": "stream",
     "text": [
      "(12578,) 0.00041102362165281765\n"
     ]
    }
   ],
   "source": [
    "print(np.shape(x), max(mid))"
   ]
  },
  {
   "cell_type": "code",
   "execution_count": 23,
   "metadata": {},
   "outputs": [
    {
     "name": "stdout",
     "output_type": "stream",
     "text": [
      "3295 -0.00020551181082640885 0.00041102362165281765\n"
     ]
    }
   ],
   "source": [
    "k = 0\n",
    "m = 0\n",
    "ma = 0\n",
    "for i in range(0, len(mid)):\n",
    "    if (mid[i] < 0):\n",
    "        k = k + 1\n",
    "        m = min(m, mid[i])\n",
    "    ma = max(ma, mid[i])\n",
    "print(k, m, ma)"
   ]
  },
  {
   "cell_type": "code",
   "execution_count": null,
   "metadata": {},
   "outputs": [],
   "source": [
    "result = linprog(C, A_eq = A, b_eq=B, method='interior-point', options={'maxiter':10})['x']"
   ]
  },
  {
   "cell_type": "code",
   "execution_count": null,
   "metadata": {},
   "outputs": [],
   "source": [
    "print(max(result), max(x))"
   ]
  },
  {
   "cell_type": "code",
   "execution_count": 18,
   "metadata": {},
   "outputs": [],
   "source": [
    "A = np.array([[0.06626872, 0.49782317, 0.16945034],[0.27174321, 0.22702761, 0.35243303]])\n",
    "B = np.array([0.2964, 0.3061])\n",
    "C = np.array([0.64, 0.84, 0.38])\n",
    "x = np.array([0.436, 0.596, 0.554])\n",
    "s = np.array([0.7355, 0.5293, 0.2713])\n",
    "y = np.array([1.08, 1.1877])\n",
    "# print(np.shape(A))\n",
    "At = np.transpose(A)"
   ]
  },
  {
   "cell_type": "code",
   "execution_count": 19,
   "metadata": {},
   "outputs": [
    {
     "name": "stdout",
     "output_type": "stream",
     "text": [
      "0.26214699999999996\n",
      "[[0.0392837  0.5605566  0.34602097]\n",
      " [0.16108775 0.25563661 0.71967526]]\n",
      "0.2544719659982102\n",
      "Cost:  0.6332406893982662\n",
      "F:  -5.551115123125783e-17\n",
      "0.053936457437246045\n",
      "[[0.0245228  1.25223098 2.05386224]\n",
      " [0.10055882 0.57106825 4.27174647]]\n",
      "-0.2964\n",
      "Cost:  0.5660386625465845\n",
      "F:  -5.551115123125783e-17\n",
      "0.010650109853263137\n",
      "[[2.52650500e-03 3.35167559e+00 2.62730607e+01]\n",
      " [1.03602511e-02 1.52850037e+00 5.46442952e+01]]\n",
      "-0.2963999999999996\n",
      "Cost:  0.5593184598614165\n",
      "F:  -2.220446049250313e-16\n",
      "0.001270699077112981\n",
      "[[2.49692209e-04 2.60197964e+01 2.68465046e+02]\n",
      " [1.02389427e-03 1.18660853e+01 5.58369782e+02]]\n",
      "-0.2964\n",
      "Cost:  0.5586464395928992\n",
      "F:  1.1102230246251565e-16\n",
      "0.00012969012193581663\n",
      "[[2.49253042e-05 2.52982999e+02 2.69038489e+03]\n",
      " [1.02209340e-04 1.15370535e+02 5.59562465e+03]]\n",
      "-0.29640000000020555\n",
      "Cost:  0.5585792375660474\n",
      "F:  -1.1102230246251565e-16\n"
     ]
    }
   ],
   "source": [
    "n = len(x)\n",
    "X = np.zeros((n, n))\n",
    "S = np.zeros((n, n))\n",
    "\n",
    "for i in range(0, 5):\n",
    "    for j in range(0, n):\n",
    "        X[j][j] = x[j]\n",
    "        S[j][j] = s[j]\n",
    "    mu = np.dot(np.transpose(x), s)\n",
    "    mu = mu/n\n",
    "    \n",
    "    print(mu)\n",
    "    rd = C - s - np.dot(np.transpose(A), y)\n",
    "#     print(rd)\n",
    "    rp = B - np.dot(A, x)\n",
    "#     print(rp)\n",
    "    rc = np.zeros(n)\n",
    "    for j in range(0, n):\n",
    "        rc[j] = -1.0*x[j]*s[j]\n",
    "    S_1 = np.linalg.inv(S)\n",
    "    D = S_1*X\n",
    "    ADA = np.dot(A, np.dot(D, np.transpose(A)))\n",
    "    print(np.dot(A, D))\n",
    "    AS = np.dot(A, S_1)\n",
    "    #dy_aff = -1.0 * np.dot(np.linalg.inv(ADA), np.dot(AS, rc) - np.dot(A, np.dot(D, rd)) - rp)\n",
    "    intm = np.dot(AS, rc) - np.dot(A, np.dot(D, rd)) - rp\n",
    "    print(max(intm))\n",
    "    chh, low = cho_factor(ADA)\n",
    "    dy_aff = cho_solve((chh, low), intm)\n",
    "    dy_aff = -1.0 * dy_aff\n",
    "    ds_aff = -1.0 * np.dot(At, dy_aff) + rd\n",
    "    dx_aff = np.dot(S_1, rc) - np.dot(D, ds_aff)\n",
    "    \n",
    "    ap_aff = 1.0\n",
    "    ad_aff = 1.0\n",
    "    \n",
    "    for j in range(0, n):\n",
    "        if (dx_aff[j] < 0):\n",
    "            ap_aff = min(ap_aff, -0.9*x[j]/dx_aff[j])\n",
    "        if (ds_aff[j] < 0):\n",
    "            ad_aff = min(ad_aff, -0.9*s[j]/ds_aff[j])\n",
    "    \n",
    "    x = x + ap_aff * dx_aff\n",
    "    y = y + ad_aff * dy_aff\n",
    "    s = s + ad_aff * ds_aff\n",
    "    \n",
    "    print(\"Cost: \", np.dot(np.transpose(C), x))\n",
    "    print(\"F: \", min(B - np.dot(A, x)))"
   ]
  },
  {
   "cell_type": "code",
   "execution_count": null,
   "metadata": {},
   "outputs": [],
   "source": [
    "print(max(abs(result - x)), max(x))"
   ]
  },
  {
   "cell_type": "code",
   "execution_count": null,
   "metadata": {},
   "outputs": [],
   "source": [
    "print(min(s))"
   ]
  },
  {
   "cell_type": "code",
   "execution_count": null,
   "metadata": {},
   "outputs": [],
   "source": [
    "np.savetxt(\"AAt.csv\", AAt, delimiter = \" \")"
   ]
  },
  {
   "cell_type": "code",
   "execution_count": null,
   "metadata": {},
   "outputs": [],
   "source": [
    "np.savetxt(\"Atxt.csv\", A, delimiter = \" \")\n",
    "np.savetxt(\"Btxt.csv\", B, delimiter = \" \")\n",
    "np.savetxt(\"Ctxt.csv\", C, delimiter = \" \")"
   ]
  }
 ],
 "metadata": {
  "kernelspec": {
   "display_name": "Python 3",
   "language": "python",
   "name": "python3"
  },
  "language_info": {
   "codemirror_mode": {
    "name": "ipython",
    "version": 3
   },
   "file_extension": ".py",
   "mimetype": "text/x-python",
   "name": "python",
   "nbconvert_exporter": "python",
   "pygments_lexer": "ipython3",
   "version": "3.8.8"
  }
 },
 "nbformat": 4,
 "nbformat_minor": 4
}
