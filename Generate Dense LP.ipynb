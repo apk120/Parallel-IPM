{
 "cells": [
  {
   "cell_type": "code",
   "execution_count": 1,
   "id": "bd29fe80",
   "metadata": {},
   "outputs": [],
   "source": [
    "import numpy as np\n",
    "import scipy\n",
    "from scipy.sparse import csr_matrix\n",
    "import matplotlib.pyplot as plt\n",
    "import csv\n",
    "from scipy.optimize import linprog\n",
    "from scipy.linalg import cho_factor, cho_solve\n",
    "from scipy import sparse\n",
    "import time"
   ]
  },
  {
   "cell_type": "code",
   "execution_count": 242,
   "id": "a0d28156",
   "metadata": {},
   "outputs": [],
   "source": [
    "m = 200\n",
    "n = 400\n",
    "A = np.random.rand(m, n)\n",
    "x = np.random.rand(n, 1)\n",
    "c = np.random.rand(n, 1)\n",
    "b = np.dot(A, x)"
   ]
  },
  {
   "cell_type": "code",
   "execution_count": 243,
   "id": "b38cd636",
   "metadata": {},
   "outputs": [
    {
     "name": "stdout",
     "output_type": "stream",
     "text": [
      "[0.49765629] [0.77922329]\n"
     ]
    }
   ],
   "source": [
    "At = np.transpose(A)\n",
    "AAt = np.dot(A, At)\n",
    "x = np.dot(np.linalg.inv(AAt), b)\n",
    "x = np.dot(At, x)\n",
    "y = np.dot(A, c)\n",
    "y = np.dot(np.linalg.inv(AAt),(y))\n",
    "s = c - np.dot(At, y)\n",
    "deltax = max(-1.5*min(x), 0)\n",
    "deltas = max(-1.5*min(s), 0)\n",
    "\n",
    "deltaxx = deltax + 0.5*(np.dot(np.transpose(x + deltax), (s + deltas)))/(np.sum(s + deltas))\n",
    "deltass = deltas + 0.5*(np.dot(np.transpose(x + deltax), (s + deltas)))/(np.sum(x + deltax))\n",
    "x = x + deltaxx\n",
    "s = s + deltass\n",
    "\n",
    "print(min(x), min(s))"
   ]
  },
  {
   "cell_type": "code",
   "execution_count": 12,
   "id": "034f1afd",
   "metadata": {},
   "outputs": [
    {
     "name": "stdout",
     "output_type": "stream",
     "text": [
      "time taken =  0.07404422760009766\n",
      "1 time taken =  30.82318615913391\n"
     ]
    },
    {
     "ename": "KeyboardInterrupt",
     "evalue": "",
     "output_type": "error",
     "traceback": [
      "\u001b[1;31m---------------------------------------------------------------------------\u001b[0m",
      "\u001b[1;31mKeyboardInterrupt\u001b[0m                         Traceback (most recent call last)",
      "\u001b[1;32m<ipython-input-12-69e1e0766027>\u001b[0m in \u001b[0;36m<module>\u001b[1;34m\u001b[0m\n\u001b[0;32m     15\u001b[0m         \u001b[0mc\u001b[0m \u001b[1;33m=\u001b[0m \u001b[0mnp\u001b[0m\u001b[1;33m.\u001b[0m\u001b[0mrandom\u001b[0m\u001b[1;33m.\u001b[0m\u001b[0mrand\u001b[0m\u001b[1;33m(\u001b[0m\u001b[0mn\u001b[0m\u001b[1;33m,\u001b[0m \u001b[1;36m1\u001b[0m\u001b[1;33m)\u001b[0m\u001b[1;33m\u001b[0m\u001b[1;33m\u001b[0m\u001b[0m\n\u001b[0;32m     16\u001b[0m         \u001b[0mb\u001b[0m \u001b[1;33m=\u001b[0m \u001b[0mnp\u001b[0m\u001b[1;33m.\u001b[0m\u001b[0mdot\u001b[0m\u001b[1;33m(\u001b[0m\u001b[0mA\u001b[0m\u001b[1;33m,\u001b[0m \u001b[0mx\u001b[0m\u001b[1;33m)\u001b[0m\u001b[1;33m\u001b[0m\u001b[1;33m\u001b[0m\u001b[0m\n\u001b[1;32m---> 17\u001b[1;33m         \u001b[0mresult\u001b[0m \u001b[1;33m=\u001b[0m \u001b[0mlinprog\u001b[0m\u001b[1;33m(\u001b[0m\u001b[0mc\u001b[0m\u001b[1;33m,\u001b[0m \u001b[0mA_eq\u001b[0m \u001b[1;33m=\u001b[0m \u001b[0mA\u001b[0m\u001b[1;33m,\u001b[0m \u001b[0mb_eq\u001b[0m\u001b[1;33m=\u001b[0m\u001b[0mb\u001b[0m\u001b[1;33m,\u001b[0m \u001b[0mmethod\u001b[0m\u001b[1;33m=\u001b[0m\u001b[1;34m'simplex'\u001b[0m\u001b[1;33m)\u001b[0m\u001b[1;31m#'interior-point'\u001b[0m\u001b[1;33m\u001b[0m\u001b[1;33m\u001b[0m\u001b[0m\n\u001b[0m\u001b[0;32m     18\u001b[0m     \u001b[0mend\u001b[0m \u001b[1;33m=\u001b[0m \u001b[0mtime\u001b[0m\u001b[1;33m.\u001b[0m\u001b[0mtime\u001b[0m\u001b[1;33m(\u001b[0m\u001b[1;33m)\u001b[0m\u001b[1;33m\u001b[0m\u001b[1;33m\u001b[0m\u001b[0m\n\u001b[0;32m     19\u001b[0m     \u001b[0mprint\u001b[0m\u001b[1;33m(\u001b[0m\u001b[0mj\u001b[0m\u001b[1;33m,\u001b[0m \u001b[1;34m\"time taken = \"\u001b[0m\u001b[1;33m,\u001b[0m \u001b[0mend\u001b[0m \u001b[1;33m-\u001b[0m \u001b[0mstart\u001b[0m\u001b[1;33m)\u001b[0m\u001b[1;33m\u001b[0m\u001b[1;33m\u001b[0m\u001b[0m\n",
      "\u001b[1;32m~\\Anaconda3\\lib\\site-packages\\scipy\\optimize\\_linprog.py\u001b[0m in \u001b[0;36mlinprog\u001b[1;34m(c, A_ub, b_ub, A_eq, b_eq, bounds, method, callback, options, x0)\u001b[0m\n\u001b[0;32m    635\u001b[0m \u001b[1;33m\u001b[0m\u001b[0m\n\u001b[0;32m    636\u001b[0m         \u001b[1;32mif\u001b[0m \u001b[0mmeth\u001b[0m \u001b[1;33m==\u001b[0m \u001b[1;34m'simplex'\u001b[0m\u001b[1;33m:\u001b[0m\u001b[1;33m\u001b[0m\u001b[1;33m\u001b[0m\u001b[0m\n\u001b[1;32m--> 637\u001b[1;33m             x, status, message, iteration = _linprog_simplex(\n\u001b[0m\u001b[0;32m    638\u001b[0m                 \u001b[0mc\u001b[0m\u001b[1;33m,\u001b[0m \u001b[0mc0\u001b[0m\u001b[1;33m=\u001b[0m\u001b[0mc0\u001b[0m\u001b[1;33m,\u001b[0m \u001b[0mA\u001b[0m\u001b[1;33m=\u001b[0m\u001b[0mA\u001b[0m\u001b[1;33m,\u001b[0m \u001b[0mb\u001b[0m\u001b[1;33m=\u001b[0m\u001b[0mb\u001b[0m\u001b[1;33m,\u001b[0m \u001b[0mcallback\u001b[0m\u001b[1;33m=\u001b[0m\u001b[0mcallback\u001b[0m\u001b[1;33m,\u001b[0m\u001b[1;33m\u001b[0m\u001b[1;33m\u001b[0m\u001b[0m\n\u001b[0;32m    639\u001b[0m                 postsolve_args=postsolve_args, **solver_options)\n",
      "\u001b[1;32m~\\Anaconda3\\lib\\site-packages\\scipy\\optimize\\_linprog_simplex.py\u001b[0m in \u001b[0;36m_linprog_simplex\u001b[1;34m(c, c0, A, b, callback, postsolve_args, maxiter, tol, disp, bland, **unknown_options)\u001b[0m\n\u001b[0;32m    621\u001b[0m     \u001b[0mT\u001b[0m \u001b[1;33m=\u001b[0m \u001b[0mnp\u001b[0m\u001b[1;33m.\u001b[0m\u001b[0mvstack\u001b[0m\u001b[1;33m(\u001b[0m\u001b[1;33m(\u001b[0m\u001b[0mrow_constraints\u001b[0m\u001b[1;33m,\u001b[0m \u001b[0mrow_objective\u001b[0m\u001b[1;33m,\u001b[0m \u001b[0mrow_pseudo_objective\u001b[0m\u001b[1;33m)\u001b[0m\u001b[1;33m)\u001b[0m\u001b[1;33m\u001b[0m\u001b[1;33m\u001b[0m\u001b[0m\n\u001b[0;32m    622\u001b[0m \u001b[1;33m\u001b[0m\u001b[0m\n\u001b[1;32m--> 623\u001b[1;33m     nit1, status = _solve_simplex(T, n, basis, callback=callback,\n\u001b[0m\u001b[0;32m    624\u001b[0m                                   \u001b[0mpostsolve_args\u001b[0m\u001b[1;33m=\u001b[0m\u001b[0mpostsolve_args\u001b[0m\u001b[1;33m,\u001b[0m\u001b[1;33m\u001b[0m\u001b[1;33m\u001b[0m\u001b[0m\n\u001b[0;32m    625\u001b[0m                                   \u001b[0mmaxiter\u001b[0m\u001b[1;33m=\u001b[0m\u001b[0mmaxiter\u001b[0m\u001b[1;33m,\u001b[0m \u001b[0mtol\u001b[0m\u001b[1;33m=\u001b[0m\u001b[0mtol\u001b[0m\u001b[1;33m,\u001b[0m \u001b[0mphase\u001b[0m\u001b[1;33m=\u001b[0m\u001b[1;36m1\u001b[0m\u001b[1;33m,\u001b[0m\u001b[1;33m\u001b[0m\u001b[1;33m\u001b[0m\u001b[0m\n",
      "\u001b[1;32m~\\Anaconda3\\lib\\site-packages\\scipy\\optimize\\_linprog_simplex.py\u001b[0m in \u001b[0;36m_solve_simplex\u001b[1;34m(T, n, basis, callback, postsolve_args, maxiter, tol, phase, bland, nit0)\u001b[0m\n\u001b[0;32m    431\u001b[0m                 \u001b[0mcomplete\u001b[0m \u001b[1;33m=\u001b[0m \u001b[1;32mTrue\u001b[0m\u001b[1;33m\u001b[0m\u001b[1;33m\u001b[0m\u001b[0m\n\u001b[0;32m    432\u001b[0m             \u001b[1;32melse\u001b[0m\u001b[1;33m:\u001b[0m\u001b[1;33m\u001b[0m\u001b[1;33m\u001b[0m\u001b[0m\n\u001b[1;32m--> 433\u001b[1;33m                 \u001b[0m_apply_pivot\u001b[0m\u001b[1;33m(\u001b[0m\u001b[0mT\u001b[0m\u001b[1;33m,\u001b[0m \u001b[0mbasis\u001b[0m\u001b[1;33m,\u001b[0m \u001b[0mpivrow\u001b[0m\u001b[1;33m,\u001b[0m \u001b[0mpivcol\u001b[0m\u001b[1;33m,\u001b[0m \u001b[0mtol\u001b[0m\u001b[1;33m)\u001b[0m\u001b[1;33m\u001b[0m\u001b[1;33m\u001b[0m\u001b[0m\n\u001b[0m\u001b[0;32m    434\u001b[0m                 \u001b[0mnit\u001b[0m \u001b[1;33m+=\u001b[0m \u001b[1;36m1\u001b[0m\u001b[1;33m\u001b[0m\u001b[1;33m\u001b[0m\u001b[0m\n\u001b[0;32m    435\u001b[0m     \u001b[1;32mreturn\u001b[0m \u001b[0mnit\u001b[0m\u001b[1;33m,\u001b[0m \u001b[0mstatus\u001b[0m\u001b[1;33m\u001b[0m\u001b[1;33m\u001b[0m\u001b[0m\n",
      "\u001b[1;32m~\\Anaconda3\\lib\\site-packages\\scipy\\optimize\\_linprog_simplex.py\u001b[0m in \u001b[0;36m_apply_pivot\u001b[1;34m(T, basis, pivrow, pivcol, tol)\u001b[0m\n\u001b[0;32m    215\u001b[0m     \u001b[1;32mfor\u001b[0m \u001b[0mirow\u001b[0m \u001b[1;32min\u001b[0m \u001b[0mrange\u001b[0m\u001b[1;33m(\u001b[0m\u001b[0mT\u001b[0m\u001b[1;33m.\u001b[0m\u001b[0mshape\u001b[0m\u001b[1;33m[\u001b[0m\u001b[1;36m0\u001b[0m\u001b[1;33m]\u001b[0m\u001b[1;33m)\u001b[0m\u001b[1;33m:\u001b[0m\u001b[1;33m\u001b[0m\u001b[1;33m\u001b[0m\u001b[0m\n\u001b[0;32m    216\u001b[0m         \u001b[1;32mif\u001b[0m \u001b[0mirow\u001b[0m \u001b[1;33m!=\u001b[0m \u001b[0mpivrow\u001b[0m\u001b[1;33m:\u001b[0m\u001b[1;33m\u001b[0m\u001b[1;33m\u001b[0m\u001b[0m\n\u001b[1;32m--> 217\u001b[1;33m             \u001b[0mT\u001b[0m\u001b[1;33m[\u001b[0m\u001b[0mirow\u001b[0m\u001b[1;33m]\u001b[0m \u001b[1;33m=\u001b[0m \u001b[0mT\u001b[0m\u001b[1;33m[\u001b[0m\u001b[0mirow\u001b[0m\u001b[1;33m]\u001b[0m \u001b[1;33m-\u001b[0m \u001b[0mT\u001b[0m\u001b[1;33m[\u001b[0m\u001b[0mpivrow\u001b[0m\u001b[1;33m]\u001b[0m \u001b[1;33m*\u001b[0m \u001b[0mT\u001b[0m\u001b[1;33m[\u001b[0m\u001b[0mirow\u001b[0m\u001b[1;33m,\u001b[0m \u001b[0mpivcol\u001b[0m\u001b[1;33m]\u001b[0m\u001b[1;33m\u001b[0m\u001b[1;33m\u001b[0m\u001b[0m\n\u001b[0m\u001b[0;32m    218\u001b[0m \u001b[1;33m\u001b[0m\u001b[0m\n\u001b[0;32m    219\u001b[0m     \u001b[1;31m# The selected pivot should never lead to a pivot value less than the tol.\u001b[0m\u001b[1;33m\u001b[0m\u001b[1;33m\u001b[0m\u001b[1;33m\u001b[0m\u001b[0m\n",
      "\u001b[1;31mKeyboardInterrupt\u001b[0m: "
     ]
    }
   ],
   "source": [
    "m = 2000\n",
    "n = 4000\n",
    "start = time.time()\n",
    "A = np.random.rand(m, n)\n",
    "x = np.random.rand(n, 1)\n",
    "c = np.random.rand(n, 1)\n",
    "b = np.dot(A, x)\n",
    "end = time.time()\n",
    "print(\"time taken = \", end - start)\n",
    "for j in [1, 10]:\n",
    "    start = time.time()\n",
    "    for i in range(0, j):\n",
    "        A = np.random.rand(m, n)\n",
    "        x = np.random.rand(n, 1)\n",
    "        c = np.random.rand(n, 1)\n",
    "        b = np.dot(A, x)\n",
    "        result = linprog(c, A_eq = A, b_eq=b, method='simplex')#'interior-point'\n",
    "    end = time.time()\n",
    "    print(j, \"time taken = \", end - start)"
   ]
  },
  {
   "cell_type": "code",
   "execution_count": 118,
   "id": "b53f9f60",
   "metadata": {},
   "outputs": [
    {
     "name": "stdout",
     "output_type": "stream",
     "text": [
      "     con: array([-6.81853862e-07, -6.79652885e-07, -6.99414386e-07, ...,\n",
      "       -6.87579018e-07, -6.78724291e-07, -6.82881478e-07])\n",
      "     fun: 639.2535807496896\n",
      " message: 'Optimization terminated successfully.'\n",
      "     nit: 16\n",
      "   slack: array([], dtype=float64)\n",
      "  status: 0\n",
      " success: True\n",
      "       x: array([3.16916106e-01, 1.13952382e+00, 7.32587520e-01, ...,\n",
      "       5.28966014e-10, 1.49316228e+00, 4.74185528e-01])\n"
     ]
    }
   ],
   "source": [
    "print(result)"
   ]
  },
  {
   "cell_type": "code",
   "execution_count": 75,
   "id": "d004edd3",
   "metadata": {},
   "outputs": [
    {
     "name": "stdout",
     "output_type": "stream",
     "text": [
      "[[0.82560675 0.45022456 0.41863624 ... 0.1753015  0.49407419 0.8545358 ]\n",
      " [0.06326723 0.86550452 0.76963276 ... 0.58990727 0.29589559 0.5915082 ]\n",
      " [0.99193755 0.4124888  0.31298569 ... 0.18375197 0.19250287 0.08527408]\n",
      " ...\n",
      " [0.01052275 0.88830292 0.60699292 ... 0.18911783 0.34999068 0.63886743]\n",
      " [0.57280089 0.23455771 0.18254087 ... 0.94546844 0.84505814 0.12164906]\n",
      " [0.65851361 0.31677676 0.32709979 ... 0.31042012 0.23114033 0.88212522]]\n",
      "[[53.9165529 ]\n",
      " [50.63227499]\n",
      " [50.7009949 ]\n",
      " [53.05584592]\n",
      " [47.45375636]\n",
      " [53.13538435]\n",
      " [56.80694505]\n",
      " [53.45400258]\n",
      " [51.71171936]\n",
      " [48.7954862 ]\n",
      " [51.87063502]\n",
      " [53.58721278]\n",
      " [52.09679515]\n",
      " [55.25400311]\n",
      " [51.45571385]\n",
      " [49.08996913]\n",
      " [52.05491497]\n",
      " [49.37845587]\n",
      " [53.8291333 ]\n",
      " [53.23796651]\n",
      " [51.8673571 ]\n",
      " [47.33139748]\n",
      " [49.68237005]\n",
      " [50.28089011]\n",
      " [53.32957909]\n",
      " [48.73540546]\n",
      " [53.13025368]\n",
      " [54.54622725]\n",
      " [45.29784213]\n",
      " [51.02465408]\n",
      " [53.9754128 ]\n",
      " [52.50656527]\n",
      " [53.11347426]\n",
      " [54.53836006]\n",
      " [55.34746694]\n",
      " [52.99590207]\n",
      " [50.0862244 ]\n",
      " [50.41117509]\n",
      " [51.68830967]\n",
      " [47.66781399]\n",
      " [54.5808068 ]\n",
      " [54.25813673]\n",
      " [54.68852078]\n",
      " [52.97260109]\n",
      " [49.52767063]\n",
      " [53.5424299 ]\n",
      " [49.11276463]\n",
      " [53.38719573]\n",
      " [49.17563677]\n",
      " [56.12479188]\n",
      " [54.20396478]\n",
      " [51.39906359]\n",
      " [46.85406493]\n",
      " [54.15576728]\n",
      " [48.601353  ]\n",
      " [53.32903561]\n",
      " [49.46208872]\n",
      " [51.71047537]\n",
      " [54.76308346]\n",
      " [49.8153694 ]\n",
      " [51.5895778 ]\n",
      " [52.0215631 ]\n",
      " [46.2224785 ]\n",
      " [53.60475085]\n",
      " [49.33997671]\n",
      " [55.42259468]\n",
      " [52.62737543]\n",
      " [53.19788697]\n",
      " [51.61592243]\n",
      " [46.89496519]\n",
      " [50.37713256]\n",
      " [50.15761895]\n",
      " [51.08164927]\n",
      " [50.80679586]\n",
      " [53.09333987]\n",
      " [48.65261833]\n",
      " [51.62122231]\n",
      " [54.35991203]\n",
      " [52.401586  ]\n",
      " [54.61338565]\n",
      " [54.01779289]\n",
      " [54.02402129]\n",
      " [47.81654835]\n",
      " [54.01768121]\n",
      " [50.09975432]\n",
      " [53.21046206]\n",
      " [52.42031716]\n",
      " [54.42434203]\n",
      " [50.96213223]\n",
      " [52.56325335]\n",
      " [50.2636439 ]\n",
      " [49.6226846 ]\n",
      " [53.66179335]\n",
      " [53.10715011]\n",
      " [56.20236296]\n",
      " [53.34958247]\n",
      " [51.87360695]\n",
      " [48.55711283]\n",
      " [52.68936633]\n",
      " [52.46106908]]\n",
      "[[6.57414330e-01]\n",
      " [5.16390897e-01]\n",
      " [6.78885000e-01]\n",
      " [8.32195574e-01]\n",
      " [7.89428881e-01]\n",
      " [8.75414256e-01]\n",
      " [9.73271641e-01]\n",
      " [7.58430747e-01]\n",
      " [1.40624841e-01]\n",
      " [5.92227116e-01]\n",
      " [3.24006293e-01]\n",
      " [7.00946843e-01]\n",
      " [2.59032794e-01]\n",
      " [4.41530366e-01]\n",
      " [8.44602198e-01]\n",
      " [2.48434915e-01]\n",
      " [3.94888429e-01]\n",
      " [4.12347996e-01]\n",
      " [1.87177638e-01]\n",
      " [1.36013773e-01]\n",
      " [6.23261071e-01]\n",
      " [8.46442345e-01]\n",
      " [5.14203183e-01]\n",
      " [7.20310251e-01]\n",
      " [7.91060972e-01]\n",
      " [8.24846185e-01]\n",
      " [3.30150923e-01]\n",
      " [7.59523434e-01]\n",
      " [3.71020922e-01]\n",
      " [8.75572695e-01]\n",
      " [5.93656311e-01]\n",
      " [1.37400143e-01]\n",
      " [8.25942416e-01]\n",
      " [5.69564911e-01]\n",
      " [5.04007479e-01]\n",
      " [1.51738647e-01]\n",
      " [5.33828801e-02]\n",
      " [3.10751760e-01]\n",
      " [3.54247020e-01]\n",
      " [5.66640031e-01]\n",
      " [2.41580313e-01]\n",
      " [2.09043762e-02]\n",
      " [7.37414156e-01]\n",
      " [1.10100325e-01]\n",
      " [1.10589052e-01]\n",
      " [5.68878751e-01]\n",
      " [3.76359539e-01]\n",
      " [9.25154327e-02]\n",
      " [8.63872978e-01]\n",
      " [8.23165147e-01]\n",
      " [2.62494632e-01]\n",
      " [6.41638404e-01]\n",
      " [9.42860033e-01]\n",
      " [6.26479993e-01]\n",
      " [1.28118522e-01]\n",
      " [7.27260065e-01]\n",
      " [1.59467791e-01]\n",
      " [3.85229171e-01]\n",
      " [8.45331607e-01]\n",
      " [3.01834623e-01]\n",
      " [1.16715949e-01]\n",
      " [9.82065167e-01]\n",
      " [4.48310569e-01]\n",
      " [8.74716691e-01]\n",
      " [9.30562728e-01]\n",
      " [6.85802373e-01]\n",
      " [5.32881322e-01]\n",
      " [6.32468210e-01]\n",
      " [4.58721866e-01]\n",
      " [8.11478081e-01]\n",
      " [7.07951425e-01]\n",
      " [7.28078843e-01]\n",
      " [6.95412591e-01]\n",
      " [1.44016795e-01]\n",
      " [1.35521490e-01]\n",
      " [9.29232507e-01]\n",
      " [4.86064443e-01]\n",
      " [4.18817915e-01]\n",
      " [7.15227335e-01]\n",
      " [4.97377135e-01]\n",
      " [4.56911614e-01]\n",
      " [2.20401621e-01]\n",
      " [7.01538840e-01]\n",
      " [4.94072951e-01]\n",
      " [4.88271096e-01]\n",
      " [7.42843138e-01]\n",
      " [3.98523193e-01]\n",
      " [7.94668044e-01]\n",
      " [9.71617772e-01]\n",
      " [9.58667477e-01]\n",
      " [7.30553574e-01]\n",
      " [8.51230005e-01]\n",
      " [2.17791990e-02]\n",
      " [2.72050863e-01]\n",
      " [1.39956282e-01]\n",
      " [2.00529941e-01]\n",
      " [6.96220408e-01]\n",
      " [1.83137499e-01]\n",
      " [4.57692848e-01]\n",
      " [3.07703697e-01]\n",
      " [7.81138499e-02]\n",
      " [4.85356525e-01]\n",
      " [9.64435709e-01]\n",
      " [6.42529041e-01]\n",
      " [9.26289287e-01]\n",
      " [9.86112716e-01]\n",
      " [6.08795634e-01]\n",
      " [1.17741202e-03]\n",
      " [6.44120022e-02]\n",
      " [6.53774256e-01]\n",
      " [7.94293639e-01]\n",
      " [3.74973290e-01]\n",
      " [1.32783666e-01]\n",
      " [7.62797965e-01]\n",
      " [5.22441011e-01]\n",
      " [6.74951324e-01]\n",
      " [2.14776846e-01]\n",
      " [7.45760751e-02]\n",
      " [8.45247520e-02]\n",
      " [1.20990687e-01]\n",
      " [6.65164674e-01]\n",
      " [8.46134979e-01]\n",
      " [4.93465621e-01]\n",
      " [4.75813642e-01]\n",
      " [3.53774850e-01]\n",
      " [5.97800378e-01]\n",
      " [8.74931814e-01]\n",
      " [3.56595126e-02]\n",
      " [6.52630406e-01]\n",
      " [7.56507931e-01]\n",
      " [3.00840658e-01]\n",
      " [9.05644004e-01]\n",
      " [6.61675324e-01]\n",
      " [6.89072706e-01]\n",
      " [7.25449210e-03]\n",
      " [9.59174344e-01]\n",
      " [7.29709355e-01]\n",
      " [5.77859048e-01]\n",
      " [6.09221748e-01]\n",
      " [2.64902405e-01]\n",
      " [7.12506039e-01]\n",
      " [3.30070974e-01]\n",
      " [3.21548371e-03]\n",
      " [2.37080346e-01]\n",
      " [1.06811710e-01]\n",
      " [7.43715195e-01]\n",
      " [5.82842358e-01]\n",
      " [8.64392025e-02]\n",
      " [8.35515530e-01]\n",
      " [7.34940594e-01]\n",
      " [5.16661464e-02]\n",
      " [4.12091497e-01]\n",
      " [2.41142682e-01]\n",
      " [9.06239797e-02]\n",
      " [1.34218420e-01]\n",
      " [7.84606363e-01]\n",
      " [2.78167067e-01]\n",
      " [8.46554510e-04]\n",
      " [5.39764781e-02]\n",
      " [5.19306625e-01]\n",
      " [3.78888812e-01]\n",
      " [9.21017661e-01]\n",
      " [6.87471509e-01]\n",
      " [5.05201657e-01]\n",
      " [2.67660287e-01]\n",
      " [7.10421849e-01]\n",
      " [7.94935918e-01]\n",
      " [2.38943610e-01]\n",
      " [9.07411872e-01]\n",
      " [1.87467046e-01]\n",
      " [8.31764317e-01]\n",
      " [6.53820284e-01]\n",
      " [8.29192377e-01]\n",
      " [5.04376381e-01]\n",
      " [6.17148078e-01]\n",
      " [3.61893808e-01]\n",
      " [3.31501867e-01]\n",
      " [2.65484700e-01]\n",
      " [3.16530834e-01]\n",
      " [9.12085033e-01]\n",
      " [5.28274556e-01]\n",
      " [1.69552131e-01]\n",
      " [1.72860205e-01]\n",
      " [3.81007574e-01]\n",
      " [6.87426181e-01]\n",
      " [4.33451320e-01]\n",
      " [3.70451783e-01]\n",
      " [7.21947471e-01]\n",
      " [5.27888898e-01]\n",
      " [3.48909046e-01]\n",
      " [8.83619028e-01]\n",
      " [8.12376030e-01]\n",
      " [8.46594250e-01]\n",
      " [7.37597127e-01]\n",
      " [8.13913626e-01]\n",
      " [3.58738905e-01]\n",
      " [7.06000571e-01]\n",
      " [5.12699217e-01]\n",
      " [7.18906997e-02]\n",
      " [8.67771064e-01]]\n"
     ]
    }
   ],
   "source": [
    "print(A)\n",
    "print(b)\n",
    "print(c)"
   ]
  },
  {
   "cell_type": "code",
   "execution_count": 6,
   "id": "8f5544f8",
   "metadata": {},
   "outputs": [
    {
     "name": "stdout",
     "output_type": "stream",
     "text": [
      "[[0.61884417]\n",
      " [0.33913621]\n",
      " [0.28886873]]\n",
      "[[-0.06167313]\n",
      " [ 0.90231412]]\n",
      "[[0.30010877]\n",
      " [0.81103541]\n",
      " [0.88176874]]\n"
     ]
    }
   ],
   "source": [
    "print(x)\n",
    "print(y)\n",
    "print(s)"
   ]
  },
  {
   "cell_type": "code",
   "execution_count": 54,
   "id": "98181799",
   "metadata": {},
   "outputs": [
    {
     "data": {
      "text/plain": [
       "8232.96"
      ]
     },
     "execution_count": 54,
     "metadata": {},
     "output_type": "execute_result"
    }
   ],
   "source": [
    "8 * 2000 * 2010 * 256 /(1000 * 1000)"
   ]
  },
  {
   "cell_type": "code",
   "execution_count": 244,
   "id": "5c50343d",
   "metadata": {},
   "outputs": [],
   "source": [
    "np.savetxt(\"B_r_dense.csv\", b, delimiter = \" \")\n",
    "np.savetxt(\"C_r_dense.csv\", c, delimiter = \" \")\n",
    "np.savetxt(\"x_ini_dense.csv\", x, delimiter = \" \")\n",
    "np.savetxt(\"y_ini_dense.csv\", y, delimiter = \" \")\n",
    "np.savetxt(\"s_ini_dense.csv\", s, delimiter = \" \")"
   ]
  },
  {
   "cell_type": "code",
   "execution_count": 245,
   "id": "0c729ab3",
   "metadata": {},
   "outputs": [],
   "source": [
    "Asave = np.zeros(m * n)\n",
    "c = 0\n",
    "for i in range(0, m):\n",
    "    for j in range(0, n):\n",
    "        Asave[c] = A[i][j]\n",
    "        c += 1\n",
    "        \n",
    "AT = np.transpose(A)\n",
    "AsaveT = np.zeros(m * n)\n",
    "c = 0\n",
    "for i in range(0, n):\n",
    "    for j in range(0, m):\n",
    "        AsaveT[c] = AT[i][j]\n",
    "        c += 1\n",
    "np.savetxt(\"A_r_dense.csv\", Asave.T, delimiter = \" \")\n",
    "np.savetxt(\"A_r_t_dense.csv\", AsaveT.T, delimiter = \" \")"
   ]
  },
  {
   "cell_type": "code",
   "execution_count": 257,
   "id": "9cf801df",
   "metadata": {},
   "outputs": [
    {
     "name": "stdout",
     "output_type": "stream",
     "text": [
      "5.23404255319149 4.440340909090909 4.209859154929577 4.006982649174778 5.394009216589862 5.583653651628566\n"
     ]
    }
   ],
   "source": [
    "print(7.38/1.41, 15.63/3.52, 29.89/7.10, 189.37/ 47.26, 1170.5/217, 7452/1334.61 )"
   ]
  },
  {
   "cell_type": "code",
   "execution_count": 144,
   "id": "2ce696db",
   "metadata": {},
   "outputs": [
    {
     "data": {
      "text/plain": [
       "84.56"
      ]
     },
     "execution_count": 144,
     "metadata": {},
     "output_type": "execute_result"
    }
   ],
   "source": [
    "4.228*20"
   ]
  },
  {
   "cell_type": "code",
   "execution_count": 3,
   "id": "ffaba3af",
   "metadata": {},
   "outputs": [
    {
     "name": "stdout",
     "output_type": "stream",
     "text": [
      "[0.07478469 0.46106195 1.94887781 2.66269165 4.03042806 4.44034091\n",
      " 4.46571429 4.44539249]\n"
     ]
    }
   ],
   "source": [
    "t100 = np.array([0.209, 0.339, 0.401, 0.587, 1.939, 3.52, 17.5, 35.16])\n",
    "tx = np.array([0.001, 0.01, 0.05, 0.1, 0.5, 1, 5, 10])\n",
    "s100 = 15.63*tx/t100\n",
    "print(15.63*tx/t100)"
   ]
  },
  {
   "cell_type": "code",
   "execution_count": 4,
   "id": "62f56d3d",
   "metadata": {},
   "outputs": [
    {
     "name": "stdout",
     "output_type": "stream",
     "text": [
      "[0.03309417 0.27954545 1.24662162 2.02191781 3.96774194 5.23404255\n",
      " 5.07565337 5.17894737]\n"
     ]
    }
   ],
   "source": [
    "t50 = np.array([0.223, 0.264, 0.296, 0.365, 0.93, 1.41, 7.27, 14.25])\n",
    "tx = np.array([0.001, 0.01, 0.05, 0.1, 0.5, 1, 5, 10])\n",
    "s50 = 7.38*tx/t50\n",
    "print(7.38*tx/t50)"
   ]
  },
  {
   "cell_type": "code",
   "execution_count": 5,
   "id": "ad958f95",
   "metadata": {},
   "outputs": [
    {
     "name": "stdout",
     "output_type": "stream",
     "text": [
      "[0.12170732 0.68512586 1.12134831 2.19340659 4.4159292  4.21690141\n",
      " 4.19680404 4.07346939]\n"
     ]
    }
   ],
   "source": [
    "t200 = np.array([0.246, 0.437, 1.335, 1.365, 3.39, 7.10, 35.67, 73.5])\n",
    "s200 = 29.94*tx/t200\n",
    "print(29.94*tx/t200)"
   ]
  },
  {
   "cell_type": "code",
   "execution_count": 6,
   "id": "8c2444e5",
   "metadata": {},
   "outputs": [
    {
     "data": {
      "image/png": "[encoded data removed]",
      "text/plain": [
       "<Figure size 432x288 with 1 Axes>"
      ]
     },
     "metadata": {
      "needs_background": "light"
     },
     "output_type": "display_data"
    }
   ],
   "source": [
    "lps = [1, 10, 50, 100, 500, 1000, 5000, 10000]\n",
    "plt.semilogx(lps, s50, '--o')\n",
    "plt.semilogx(lps, s100, '--o')\n",
    "plt.semilogx(lps, s200,'--o')\n",
    "labels = ['LP Size = 50', 'LP Size = 100', 'LP Size = 200']\n",
    "plt.legend(labels)\n",
    "plt.grid()\n",
    "plt.xlabel('Number of LPs')\n",
    "plt.ylabel('Speed Up')\n",
    "plt.savefig('NoLPvsSpeedIPM.png')"
   ]
  },
  {
   "cell_type": "code",
   "execution_count": 2,
   "id": "dda552f6",
   "metadata": {},
   "outputs": [
    {
     "ename": "NameError",
     "evalue": "name 'tx' is not defined",
     "output_type": "error",
     "traceback": [
      "\u001b[1;31m---------------------------------------------------------------------------\u001b[0m",
      "\u001b[1;31mNameError\u001b[0m                                 Traceback (most recent call last)",
      "\u001b[1;32m<ipython-input-2-184a96d292ad>\u001b[0m in \u001b[0;36m<module>\u001b[1;34m\u001b[0m\n\u001b[1;32m----> 1\u001b[1;33m \u001b[0ms50\u001b[0m \u001b[1;33m=\u001b[0m \u001b[1;36m74.04\u001b[0m\u001b[1;33m*\u001b[0m\u001b[0mtx\u001b[0m\u001b[1;33m/\u001b[0m\u001b[0mt50\u001b[0m\u001b[1;33m\u001b[0m\u001b[1;33m\u001b[0m\u001b[0m\n\u001b[0m\u001b[0;32m      2\u001b[0m \u001b[0ms100\u001b[0m \u001b[1;33m=\u001b[0m \u001b[1;36m258.62\u001b[0m\u001b[1;33m*\u001b[0m\u001b[0mtx\u001b[0m\u001b[1;33m/\u001b[0m\u001b[0mt100\u001b[0m\u001b[1;33m\u001b[0m\u001b[1;33m\u001b[0m\u001b[0m\n\u001b[0;32m      3\u001b[0m \u001b[0ms200\u001b[0m \u001b[1;33m=\u001b[0m \u001b[1;36m1304.05\u001b[0m \u001b[1;33m*\u001b[0m \u001b[0mtx\u001b[0m\u001b[1;33m/\u001b[0m\u001b[0mt200\u001b[0m\u001b[1;33m\u001b[0m\u001b[1;33m\u001b[0m\u001b[0m\n\u001b[0;32m      4\u001b[0m \u001b[0mlps\u001b[0m \u001b[1;33m=\u001b[0m \u001b[1;33m[\u001b[0m\u001b[1;36m1\u001b[0m\u001b[1;33m,\u001b[0m \u001b[1;36m10\u001b[0m\u001b[1;33m,\u001b[0m \u001b[1;36m50\u001b[0m\u001b[1;33m,\u001b[0m \u001b[1;36m100\u001b[0m\u001b[1;33m,\u001b[0m \u001b[1;36m500\u001b[0m\u001b[1;33m,\u001b[0m \u001b[1;36m1000\u001b[0m\u001b[1;33m,\u001b[0m \u001b[1;36m5000\u001b[0m\u001b[1;33m,\u001b[0m \u001b[1;36m10000\u001b[0m\u001b[1;33m]\u001b[0m\u001b[1;33m\u001b[0m\u001b[1;33m\u001b[0m\u001b[0m\n\u001b[0;32m      5\u001b[0m \u001b[0mplt\u001b[0m\u001b[1;33m.\u001b[0m\u001b[0msemilogx\u001b[0m\u001b[1;33m(\u001b[0m\u001b[0mlps\u001b[0m\u001b[1;33m,\u001b[0m \u001b[0ms50\u001b[0m\u001b[1;33m,\u001b[0m \u001b[1;34m'--o'\u001b[0m\u001b[1;33m)\u001b[0m\u001b[1;33m\u001b[0m\u001b[1;33m\u001b[0m\u001b[0m\n",
      "\u001b[1;31mNameError\u001b[0m: name 'tx' is not defined"
     ]
    }
   ],
   "source": [
    "s50 = 74.04*tx/t50\n",
    "s100 = 258.62*tx/t100\n",
    "s200 = 1304.05 * tx/t200\n",
    "lps = [1, 10, 50, 100, 500, 1000, 5000, 10000]\n",
    "plt.semilogx(lps, s50, '--o')\n",
    "plt.semilogx(lps, s100, '--o')\n",
    "plt.semilogx(lps, s200,'--o')\n",
    "labels = ['LP Size = 50', 'LP Size = 100', 'LP Size = 200']\n",
    "plt.legend(labels)\n",
    "plt.grid()\n",
    "plt.xlabel('Number of LPs')\n",
    "plt.ylabel('Speed Up')\n",
    "plt.savefig('NoLPvsSpeedSimplex.png')"
   ]
  },
  {
   "cell_type": "code",
   "execution_count": null,
   "id": "19af3d02",
   "metadata": {},
   "outputs": [],
   "source": []
  }
 ],
 "metadata": {
  "kernelspec": {
   "display_name": "Python 3",
   "language": "python",
   "name": "python3"
  },
  "language_info": {
   "codemirror_mode": {
    "name": "ipython",
    "version": 3
   },
   "file_extension": ".py",
   "mimetype": "text/x-python",
   "name": "python",
   "nbconvert_exporter": "python",
   "pygments_lexer": "ipython3",
   "version": "3.8.8"
  }
 },
 "nbformat": 4,
 "nbformat_minor": 5
}
