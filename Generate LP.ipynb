{
 "cells": [
  {
   "cell_type": "code",
   "execution_count": 1,
   "metadata": {},
   "outputs": [],
   "source": [
    "import numpy as np\n",
    "import scipy\n",
    "from scipy.sparse import csr_matrix\n",
    "import matplotlib.pyplot as plt\n",
    "import csv\n",
    "from scipy.optimize import linprog\n",
    "from scipy.linalg import cho_factor, cho_solve\n",
    "from scipy import sparse\n",
    "import time"
   ]
  },
  {
   "cell_type": "code",
   "execution_count": 2,
   "metadata": {},
   "outputs": [],
   "source": [
    "m = 50\n",
    "n = 100"
   ]
  },
  {
   "cell_type": "code",
   "execution_count": 3,
   "metadata": {},
   "outputs": [],
   "source": [
    "A = np.eye(m, n)\n",
    "for i in range(m+1, n):\n",
    "    A[i%m][i] = 1\n",
    "A = A[0:m, :]\n",
    "for i in range(0, m):\n",
    "    for j in range(0, n):\n",
    "        if A[i][j] > 0:\n",
    "            A[i][j] = A[i][j]*np.random.rand()\n",
    "        else:\n",
    "            if (np.random.rand() > 0.995):\n",
    "                A[i][j] = np.random.rand()\n",
    "#print(A)"
   ]
  },
  {
   "cell_type": "code",
   "execution_count": 4,
   "metadata": {},
   "outputs": [
    {
     "name": "stdout",
     "output_type": "stream",
     "text": [
      "50\n"
     ]
    }
   ],
   "source": [
    "print(np.linalg.matrix_rank(A))"
   ]
  },
  {
   "cell_type": "code",
   "execution_count": 5,
   "metadata": {},
   "outputs": [
    {
     "name": "stdout",
     "output_type": "stream",
     "text": [
      "(50, 1)\n"
     ]
    }
   ],
   "source": [
    "c = np.random.rand(n, 1)\n",
    "x = np.random.rand(n, 1)\n",
    "b = np.dot(A, x)\n",
    "print(np.shape(b))"
   ]
  },
  {
   "cell_type": "code",
   "execution_count": 17,
   "metadata": {},
   "outputs": [
    {
     "name": "stdout",
     "output_type": "stream",
     "text": [
      "[0.24792692] [0.52101151]\n"
     ]
    }
   ],
   "source": [
    "At = np.transpose(A)\n",
    "AAt = np.dot(A, At)\n",
    "x = np.dot(np.linalg.inv(AAt), b)\n",
    "x = np.dot(At, x)\n",
    "y = np.dot(A, c)\n",
    "y = np.dot(np.linalg.inv(AAt),(y))\n",
    "s = c - np.dot(At, y)\n",
    "deltax = max(-1.5*min(x), 0)\n",
    "deltas = max(-1.5*min(s), 0)\n",
    "\n",
    "deltaxx = deltax + 0.5*(np.dot(np.transpose(x + deltax), (s + deltas)))/(np.sum(s + deltas))\n",
    "deltass = deltas + 0.5*(np.dot(np.transpose(x + deltax), (s + deltas)))/(np.sum(x + deltax))\n",
    "x = x + deltaxx\n",
    "s = s + deltass\n",
    "\n",
    "print(min(x), min(s))"
   ]
  },
  {
   "cell_type": "code",
   "execution_count": 18,
   "metadata": {},
   "outputs": [],
   "source": [
    "np.savetxt(\"B_random.csv\", b, delimiter = \" \")\n",
    "np.savetxt(\"C_random.csv\", c, delimiter = \" \")\n",
    "np.savetxt(\"x_random.csv\", x, delimiter = \" \")\n",
    "np.savetxt(\"y_random.csv\", y, delimiter = \" \")\n",
    "np.savetxt(\"s_random.csv\", s, delimiter = \" \")"
   ]
  },
  {
   "cell_type": "code",
   "execution_count": 19,
   "metadata": {},
   "outputs": [],
   "source": [
    "def sparsify(A):\n",
    "    nnz = 0\n",
    "    m = np.shape(A)[0]\n",
    "    n = np.shape(A)[1]\n",
    "    ia = np.ones(m + 1)\n",
    "    val = []\n",
    "    ja = []\n",
    "    for i in range(0, m):\n",
    "        for j in range(0, n):\n",
    "            if A[i][j] != 0:\n",
    "                val.append(A[i][j])\n",
    "                ja.append(j + 1)\n",
    "                nnz = nnz + 1\n",
    "        ia[i + 1] = nnz + 1\n",
    "    ia = ia.astype(int)\n",
    "    ja = np.array(ja)\n",
    "    ja = ja.astype(int)\n",
    "    return val, ja, ia "
   ]
  },
  {
   "cell_type": "code",
   "execution_count": 20,
   "metadata": {},
   "outputs": [],
   "source": [
    "va, ja, ia = sparsify(A)\n",
    "csvfile = \"A_random.csv\"\n",
    "with open(csvfile, 'w') as output:\n",
    "    writer = csv.writer(output, delimiter= \" \", lineterminator = '\\n')\n",
    "    writer.writerow(ia)\n",
    "    writer.writerow(ja)\n",
    "    writer.writerow(va)"
   ]
  },
  {
   "cell_type": "code",
   "execution_count": 21,
   "metadata": {},
   "outputs": [],
   "source": [
    "va, ja, ia = sparsify(At)\n",
    "csvfile = \"At_random.csv\"\n",
    "with open(csvfile, 'w') as output:\n",
    "    writer = csv.writer(output, delimiter= \" \", lineterminator = '\\n')\n",
    "    writer.writerow(ia)\n",
    "    writer.writerow(ja)\n",
    "    writer.writerow(va)"
   ]
  },
  {
   "cell_type": "code",
   "execution_count": 22,
   "metadata": {},
   "outputs": [
    {
     "name": "stdout",
     "output_type": "stream",
     "text": [
      "time taken =  0.01497793197631836\n"
     ]
    }
   ],
   "source": [
    "start = time.time()\n",
    "# for i in range(0, 4):\n",
    "result = linprog(c, A_eq = A, b_eq=b, method='interior-point')\n",
    "end = time.time()\n",
    "print(\"time taken = \", end - start)"
   ]
  },
  {
   "cell_type": "code",
   "execution_count": 12,
   "metadata": {},
   "outputs": [
    {
     "name": "stdout",
     "output_type": "stream",
     "text": [
      "     con: array([-1.26855193e-11, -5.26245714e-12, -2.21527241e-11, -4.99711383e-12,\n",
      "       -8.14903700e-13, -1.12959642e-11, -1.51293145e-11, -1.27475808e-12,\n",
      "       -1.42120760e-11, -1.11696763e-11, -1.95413685e-11, -4.40814052e-12,\n",
      "       -2.38656317e-11, -1.09630083e-11, -9.21440702e-12, -1.60251812e-11,\n",
      "       -3.77875509e-12, -9.37566691e-12, -6.30961949e-12, -1.39837031e-11,\n",
      "       -8.68582983e-12, -2.40374387e-12, -1.58760782e-11, -5.95790084e-12,\n",
      "       -1.22144517e-11, -5.86786175e-12, -3.00515168e-12, -1.14957488e-11,\n",
      "       -7.01472214e-12, -8.28070945e-12, -1.47282186e-11, -3.85413923e-12,\n",
      "       -1.95838346e-11, -8.47422132e-12, -1.15223386e-11, -6.01163563e-12,\n",
      "       -1.75603976e-11, -1.34027234e-11, -7.79021292e-12, -1.89842586e-11,\n",
      "       -9.33481070e-12, -1.48100421e-11, -7.74891262e-12, -1.87346805e-11,\n",
      "       -2.75479639e-12, -1.61987090e-11, -1.47319934e-11, -6.44057030e-12,\n",
      "       -1.26847421e-11, -1.01252340e-13])\n",
      "     fun: 16.23909368795697\n",
      " message: 'Optimization terminated successfully.'\n",
      "     nit: 8\n",
      "   slack: array([], dtype=float64)\n",
      "  status: 0\n",
      " success: True\n",
      "       x: array([1.00652845e-11, 1.62913789e-11, 2.25769960e-11, 1.60672879e-11,\n",
      "       6.59287041e-10, 1.56414869e-11, 1.78338235e-11, 8.55449580e-12,\n",
      "       1.69966444e+00, 1.72828541e-11, 6.15844850e-11, 6.75333332e-01,\n",
      "       5.98707155e-11, 7.17844935e-01, 9.57596279e-01, 8.64741883e-01,\n",
      "       9.78566129e-01, 1.10989932e-11, 1.47009245e-11, 2.00248716e-11,\n",
      "       4.87448081e-11, 1.17373144e-10, 6.42812274e-01, 2.65486349e-11,\n",
      "       9.21276186e-01, 2.76562569e-11, 7.26051030e-11, 1.99821710e-11,\n",
      "       5.59382590e-01, 2.79098848e-10, 8.21224539e-01, 1.14211743e+00,\n",
      "       2.71861719e-10, 7.73188949e-01, 2.25900435e+00, 7.90661549e-12,\n",
      "       6.32331358e-01, 5.66486073e-01, 8.76081678e-01, 6.74362979e-01,\n",
      "       9.70017819e-11, 2.33844631e-11, 1.41270702e-10, 5.81386056e-01,\n",
      "       2.83336689e+00, 9.03633380e-01, 1.99896390e-11, 4.23219892e-01,\n",
      "       1.13175003e+00, 8.55710323e-01, 4.33712069e-11, 1.75567008e+00,\n",
      "       7.27749249e-02, 5.46699298e-01, 3.14280687e+00, 9.39171735e-01,\n",
      "       2.81668077e-01, 1.19709532e+00, 6.49317199e-10, 3.95481487e-01,\n",
      "       3.51426094e-01, 2.84193280e-10, 4.34100190e-01, 1.77211570e-11,\n",
      "       2.37351461e-11, 3.80235598e-11, 5.86373677e-01, 6.25621488e-01,\n",
      "       6.84237998e-01, 1.14528568e+00, 6.88869266e-01, 2.39581279e-11,\n",
      "       1.40646747e-11, 7.50738462e-01, 2.47416687e-01, 1.16487164e+00,\n",
      "       1.15886089e+00, 3.76481829e-01, 5.92550171e-01, 9.32344995e-01,\n",
      "       2.42118847e-11, 2.85474940e-11, 4.01736503e-01, 1.80401354e-11,\n",
      "       2.81214373e-11, 4.01080481e-10, 4.04242515e-11, 1.10158326e-10,\n",
      "       1.63959607e-11, 1.25378222e-10, 5.91606150e-10, 5.25283401e-01,\n",
      "       1.53621079e+00, 2.10089977e-11, 5.54435807e-03, 1.75725134e-11,\n",
      "       2.08073131e+00, 1.70206244e-11, 3.27164454e-11, 4.69538686e-11])\n"
     ]
    }
   ],
   "source": [
    "print(result)"
   ]
  },
  {
   "cell_type": "code",
   "execution_count": 24,
   "metadata": {},
   "outputs": [
    {
     "name": "stdout",
     "output_type": "stream",
     "text": [
      "120\n",
      "92\n"
     ]
    }
   ],
   "source": [
    "print(np.count_nonzero(A))\n",
    "print(np.count_nonzero(AAt))"
   ]
  },
  {
   "cell_type": "code",
   "execution_count": 14,
   "metadata": {},
   "outputs": [],
   "source": [
    "va, ja, ia = sparsify(AAt)\n",
    "csvfile = \"AAt_random.csv\"\n",
    "with open(csvfile, 'w') as output:\n",
    "    writer = csv.writer(output, delimiter= \" \", lineterminator = '\\n')\n",
    "    writer.writerow(ia)\n",
    "    writer.writerow(ja)\n",
    "    writer.writerow(va)"
   ]
  },
  {
   "cell_type": "code",
   "execution_count": 15,
   "metadata": {},
   "outputs": [
    {
     "name": "stdout",
     "output_type": "stream",
     "text": [
      "50\n"
     ]
    }
   ],
   "source": [
    "print(np.linalg.matrix_rank(AAt))"
   ]
  },
  {
   "cell_type": "code",
   "execution_count": 16,
   "metadata": {},
   "outputs": [
    {
     "name": "stdout",
     "output_type": "stream",
     "text": [
      "0.0368\n"
     ]
    }
   ],
   "source": [
    "print(np.count_nonzero(AAt)/(m*m))"
   ]
  },
  {
   "cell_type": "code",
   "execution_count": 141,
   "metadata": {},
   "outputs": [],
   "source": [
    "#(m*n-nnzAAt)\n",
    "# (500*1000-11000) (200*500 - 1620) ()\n",
    "size = [\"500*1000\", \"500*1000\", \"200*500\", \"200*500\", \"100*200\", \"100*200\", \"50*100\",  \"50*100\", \"10*20\", \"10*20\"]\n",
    "time_1000_gpu = [68.556, 3.317, 0.783, 0.308, 0.302]\n",
    "time_1000_cpu = [237.8, 19.33, 9.127, 4.89, 3.29]"
   ]
  },
  {
   "cell_type": "code",
   "execution_count": 143,
   "metadata": {},
   "outputs": [
    {
     "data": {
      "text/plain": [
       "<BarContainer object of 5 artists>"
      ]
     },
     "execution_count": 143,
     "metadata": {},
     "output_type": "execute_result"
    },
    {
     "data": {
      "image/png": "[encoded data removed]",
      "text/plain": [
       "<Figure size 432x288 with 1 Axes>"
      ]
     },
     "metadata": {
      "needs_background": "light"
     },
     "output_type": "display_data"
    }
   ],
   "source": [
    "plt.bar(size, time_1000_gpu)\n",
    "plt.bar(size, time_1000_cpu)"
   ]
  },
  {
   "cell_type": "code",
   "execution_count": null,
   "metadata": {},
   "outputs": [],
   "source": []
  }
 ],
 "metadata": {
  "kernelspec": {
   "display_name": "Python 3",
   "language": "python",
   "name": "python3"
  },
  "language_info": {
   "codemirror_mode": {
    "name": "ipython",
    "version": 3
   },
   "file_extension": ".py",
   "mimetype": "text/x-python",
   "name": "python",
   "nbconvert_exporter": "python",
   "pygments_lexer": "ipython3",
   "version": "3.8.8"
  }
 },
 "nbformat": 4,
 "nbformat_minor": 4
}
