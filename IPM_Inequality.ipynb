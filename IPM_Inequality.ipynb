{
 "cells": [
  {
   "cell_type": "code",
   "execution_count": 1,
   "metadata": {},
   "outputs": [],
   "source": [
    "import numpy as np\n",
    "from scipy.optimize import linprog\n",
    "import matplotlib.pyplot as plt"
   ]
  },
  {
   "cell_type": "code",
   "execution_count": 11,
   "metadata": {},
   "outputs": [],
   "source": [
    "a = np.load(\"A_matrix.npy\")\n",
    "B = np.load(\"B_matrix.npy\")\n",
    "C = np.load(\"C_matrix.npy\")"
   ]
  },
  {
   "cell_type": "code",
   "execution_count": 12,
   "metadata": {},
   "outputs": [],
   "source": [
    "A1 = np.eye(np.shape(a)[0], np.shape(a)[1])"
   ]
  },
  {
   "cell_type": "code",
   "execution_count": 13,
   "metadata": {},
   "outputs": [
    {
     "name": "stdout",
     "output_type": "stream",
     "text": [
      "(6590, 12578)\n"
     ]
    }
   ],
   "source": [
    "A = np.hstack([a, A1])\n",
    "print(np.shape(A))"
   ]
  },
  {
   "cell_type": "code",
   "execution_count": 14,
   "metadata": {},
   "outputs": [],
   "source": [
    "At = np.transpose(A)\n",
    "AAt = np.dot(At, A)\n",
    "AAT = np.dot(a, np.transpose(a))"
   ]
  },
  {
   "cell_type": "code",
   "execution_count": 16,
   "metadata": {},
   "outputs": [
    {
     "name": "stdout",
     "output_type": "stream",
     "text": [
      "0.03299788394989917 5220466\n",
      "0.00582367845584373 482719\n",
      "0.04688927215328324 2036312\n",
      "0.011495611843402177 476430\n"
     ]
    }
   ],
   "source": [
    "print(np.count_nonzero(AAt)/(np.shape(AAt)[0]*np.shape(AAt)[1]), np.count_nonzero(AAt))\n",
    "print(np.count_nonzero(A)/(np.shape(A)[0]*np.shape(A)[1]), np.count_nonzero(A))\n",
    "print(np.count_nonzero(AAT)/(np.shape(AAT)[0]*np.shape(AAT)[1]), np.count_nonzero(AAT))\n",
    "print(np.count_nonzero(a)/(np.shape(a)[0]*np.shape(a)[1]), np.count_nonzero(a))"
   ]
  },
  {
   "cell_type": "code",
   "execution_count": null,
   "metadata": {},
   "outputs": [],
   "source": [
    "#initialization\n",
    "AAt_1 = np.linalg.inv(AAt)\n",
    "y = -1.0*np.dot(A, np.dot(AAt_1, C))\n",
    "x = np.dot(AAt_1, np.dot(At, B))\n",
    "s = B - np.dot(A, x)\n",
    "\n",
    "delta_y = max(0.0, 1.5*min(y))\n",
    "delta_s = max(0.0, 1.5*min(s))\n",
    "\n",
    "y = y + delta_y\n",
    "s = s + delta_s\n",
    "\n",
    "o = np.ones(len(y))\n",
    "\n",
    "delta_y_h = 0.5 * (np.dot(np.transpose(y), s))/(np.dot(np.transpose(o), s))\n",
    "delta_s_h = 0.5 * (np.dot(np.transpose(y), s))/(np.dot(np.transpose(o), y))\n",
    "\n",
    "y = y + delta_y_h\n",
    "s = s + delta_s_h"
   ]
  },
  {
   "cell_type": "code",
   "execution_count": null,
   "metadata": {},
   "outputs": [],
   "source": [
    "print(min(np.dot(A, x) - B))"
   ]
  },
  {
   "cell_type": "code",
   "execution_count": null,
   "metadata": {},
   "outputs": [],
   "source": []
  }
 ],
 "metadata": {
  "kernelspec": {
   "display_name": "Python 3",
   "language": "python",
   "name": "python3"
  },
  "language_info": {
   "codemirror_mode": {
    "name": "ipython",
    "version": 3
   },
   "file_extension": ".py",
   "mimetype": "text/x-python",
   "name": "python",
   "nbconvert_exporter": "python",
   "pygments_lexer": "ipython3",
   "version": "3.8.8"
  }
 },
 "nbformat": 4,
 "nbformat_minor": 4
}
