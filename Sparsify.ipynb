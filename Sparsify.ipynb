{
 "cells": [
  {
   "cell_type": "code",
   "execution_count": 2,
   "metadata": {},
   "outputs": [],
   "source": [
    "import numpy as np\n",
    "import matplotlib.pyplot as plt\n",
    "import csv"
   ]
  },
  {
   "cell_type": "code",
   "execution_count": 3,
   "metadata": {},
   "outputs": [],
   "source": [
    "def sparsify(A):\n",
    "    nnz = 0\n",
    "    m = np.shape(A)[0]\n",
    "    n = np.shape(A)[1]\n",
    "    ia = np.ones(m + 1)\n",
    "    val = []\n",
    "    ja = []\n",
    "    for i in range(0, m):\n",
    "        for j in range(0, n):\n",
    "            if A[i][j] != 0:\n",
    "                val.append(A[i][j])\n",
    "                ja.append(j + 1)\n",
    "                nnz = nnz + 1\n",
    "        ia[i + 1] = nnz + 1\n",
    "    ia = ia.astype(int)\n",
    "    ja = np.array(ja)\n",
    "    ja = ja.astype(int)\n",
    "    return val, ja, ia "
   ]
  },
  {
   "cell_type": "code",
   "execution_count": 4,
   "metadata": {},
   "outputs": [
    {
     "name": "stdout",
     "output_type": "stream",
     "text": [
      "[7, 2, 2, 1, 3] [1 4 1 3 1] [1 3 5 6]\n"
     ]
    }
   ],
   "source": [
    "A = [[7, 0, 0, 2], [2, 0, 1, 0], [3, 0, 0, 0]]\n",
    "va, ja, ia = sparsify(A)\n",
    "print(va, ja, ia)"
   ]
  },
  {
   "cell_type": "code",
   "execution_count": 5,
   "metadata": {},
   "outputs": [
    {
     "name": "stdout",
     "output_type": "stream",
     "text": [
      "[array([1, 3, 5, 6]), array([1, 4, 1, 3, 1]), [7, 2, 2, 1, 3]]\n"
     ]
    }
   ],
   "source": [
    "net = [ia, ja, va]\n",
    "print(net)"
   ]
  },
  {
   "cell_type": "code",
   "execution_count": 6,
   "metadata": {},
   "outputs": [],
   "source": [
    "csvfile = \"test.csv\"\n",
    "with open(csvfile, 'w') as output:\n",
    "    writer = csv.writer(output, delimiter= \" \", lineterminator = '\\n')\n",
    "    writer.writerow(ia)\n",
    "    writer.writerow(ja)\n",
    "    writer.writerow(va)"
   ]
  },
  {
   "cell_type": "code",
   "execution_count": 7,
   "metadata": {},
   "outputs": [
    {
     "name": "stdout",
     "output_type": "stream",
     "text": [
      "(6590, 12879)\n"
     ]
    }
   ],
   "source": [
    "a = np.load(\"A_matrix.npy\")\n",
    "A1 = np.eye(np.shape(a)[0], np.shape(a)[0])\n",
    "A = np.hstack([a, A1])\n",
    "print(np.shape(A))"
   ]
  },
  {
   "cell_type": "code",
   "execution_count": 8,
   "metadata": {},
   "outputs": [],
   "source": [
    "va, ja, ia = sparsify(A)\n",
    "csvfile = \"A_sparse.csv\"\n",
    "with open(csvfile, 'w') as output:\n",
    "    writer = csv.writer(output, delimiter= \" \", lineterminator = '\\n')\n",
    "    writer.writerow(ia)\n",
    "    writer.writerow(ja)\n",
    "    writer.writerow(va)"
   ]
  },
  {
   "cell_type": "code",
   "execution_count": 9,
   "metadata": {},
   "outputs": [
    {
     "name": "stdout",
     "output_type": "stream",
     "text": [
      "483021\n"
     ]
    }
   ],
   "source": [
    "print(ia[np.shape(A)[0]])"
   ]
  },
  {
   "cell_type": "code",
   "execution_count": 6,
   "metadata": {},
   "outputs": [
    {
     "name": "stdout",
     "output_type": "stream",
     "text": [
      "483020\n"
     ]
    }
   ],
   "source": [
    "print(np.count_nonzero(A))"
   ]
  },
  {
   "cell_type": "code",
   "execution_count": 10,
   "metadata": {},
   "outputs": [
    {
     "name": "stdout",
     "output_type": "stream",
     "text": [
      "(12879, 6590)\n"
     ]
    }
   ],
   "source": [
    "At = np.transpose(A)\n",
    "print(np.shape(At))"
   ]
  },
  {
   "cell_type": "code",
   "execution_count": 8,
   "metadata": {},
   "outputs": [],
   "source": [
    "va, ja, ia = sparsify(At)\n",
    "csvfile = \"At_sparse.csv\"\n",
    "with open(csvfile, 'w') as output:\n",
    "    writer = csv.writer(output, delimiter= \" \", lineterminator = '\\n')\n",
    "    writer.writerow(ia)\n",
    "    writer.writerow(ja)\n",
    "    writer.writerow(va)"
   ]
  },
  {
   "cell_type": "code",
   "execution_count": 9,
   "metadata": {},
   "outputs": [
    {
     "name": "stdout",
     "output_type": "stream",
     "text": [
      "483021\n",
      "483020\n"
     ]
    }
   ],
   "source": [
    "print(ia[np.shape(At)[0]])\n",
    "print(np.count_nonzero(At))"
   ]
  },
  {
   "cell_type": "code",
   "execution_count": 12,
   "metadata": {},
   "outputs": [],
   "source": [
    "c = np.load(\"C_matrix.npy\")\n",
    "C = np.hstack([c, 0.0001*np.ones(np.shape(a)[0])])\n",
    "np.savetxt(\"Ctxt.csv\", C, delimiter = \" \")"
   ]
  },
  {
   "cell_type": "code",
   "execution_count": 13,
   "metadata": {},
   "outputs": [],
   "source": [
    "#initial Points\n",
    "B = np.load(\"B_matrix.npy\")\n",
    "At = np.transpose(A)\n",
    "AAtxx = np.dot(abs(A), abs(At))\n",
    "AAt = np.dot(A, At)\n",
    "x = np.dot(np.linalg.inv(AAt), B)\n",
    "x = np.dot(At, x)\n",
    "y = np.dot(A, C)\n",
    "y = np.dot(np.linalg.inv(AAt),(y))\n",
    "s = C - np.dot(At, y)"
   ]
  },
  {
   "cell_type": "code",
   "execution_count": 14,
   "metadata": {},
   "outputs": [],
   "source": [
    "np.savetxt(\"x_initial.csv\", x, delimiter = \" \")\n",
    "np.savetxt(\"y_initial.csv\", y, delimiter = \" \")\n",
    "np.savetxt(\"s_initial.csv\", s, delimiter = \" \")"
   ]
  },
  {
   "cell_type": "code",
   "execution_count": 15,
   "metadata": {},
   "outputs": [],
   "source": [
    "va, ja, ia = sparsify(AAtxx)\n",
    "csvfile = \"AAt_sparse.csv\"\n",
    "with open(csvfile, 'w') as output:\n",
    "    writer = csv.writer(output, delimiter= \" \", lineterminator = '\\n')\n",
    "    writer.writerow(ia)\n",
    "    writer.writerow(ja)\n",
    "    writer.writerow(va)"
   ]
  },
  {
   "cell_type": "code",
   "execution_count": 14,
   "metadata": {},
   "outputs": [
    {
     "data": {
      "text/plain": [
       "3.986803757352455e-20"
      ]
     },
     "execution_count": 14,
     "metadata": {},
     "output_type": "execute_result"
    }
   ],
   "source": [
    "np.dot(x, s)"
   ]
  },
  {
   "cell_type": "code",
   "execution_count": 15,
   "metadata": {},
   "outputs": [
    {
     "name": "stdout",
     "output_type": "stream",
     "text": [
      "2036312\n"
     ]
    }
   ],
   "source": [
    "print(np.count_nonzero(AAt))"
   ]
  },
  {
   "cell_type": "code",
   "execution_count": 16,
   "metadata": {},
   "outputs": [
    {
     "name": "stdout",
     "output_type": "stream",
     "text": [
      "483020\n"
     ]
    }
   ],
   "source": [
    "print(np.count_nonzero(A))"
   ]
  },
  {
   "cell_type": "code",
   "execution_count": 17,
   "metadata": {},
   "outputs": [],
   "source": [
    "rd = np.dot(At, y)"
   ]
  },
  {
   "cell_type": "code",
   "execution_count": 18,
   "metadata": {},
   "outputs": [
    {
     "name": "stdout",
     "output_type": "stream",
     "text": [
      "[-2.23616698e-19  1.76182853e-19 -7.55976905e-19 ... -3.33333333e-06\n",
      " -3.33333333e-06 -3.33333333e-06]\n"
     ]
    }
   ],
   "source": [
    "print(rd)"
   ]
  },
  {
   "cell_type": "code",
   "execution_count": 19,
   "metadata": {},
   "outputs": [],
   "source": [
    "np.savetxt(\"rd.txt\", rd, delimiter = \" \")"
   ]
  },
  {
   "cell_type": "code",
   "execution_count": 20,
   "metadata": {},
   "outputs": [
    {
     "name": "stdout",
     "output_type": "stream",
     "text": [
      "-0.33333333333333504 -3.333333333332726e-06\n"
     ]
    }
   ],
   "source": [
    "print(min(y), max(y))"
   ]
  },
  {
   "cell_type": "code",
   "execution_count": 21,
   "metadata": {},
   "outputs": [
    {
     "name": "stdout",
     "output_type": "stream",
     "text": [
      "3.986803757352455e-20\n"
     ]
    }
   ],
   "source": [
    "d = np.dot(x, s)\n",
    "print(d)"
   ]
  },
  {
   "cell_type": "code",
   "execution_count": 22,
   "metadata": {},
   "outputs": [
    {
     "name": "stdout",
     "output_type": "stream",
     "text": [
      "[0. 0. 0. ... 0. 0. 0.]\n"
     ]
    }
   ],
   "source": [
    "rd = C - s - rd\n",
    "print(rd)"
   ]
  },
  {
   "cell_type": "code",
   "execution_count": 23,
   "metadata": {},
   "outputs": [
    {
     "name": "stdout",
     "output_type": "stream",
     "text": [
      "0.0 0.0\n"
     ]
    }
   ],
   "source": [
    "print(max(rd), min(rd))"
   ]
  },
  {
   "cell_type": "code",
   "execution_count": 25,
   "metadata": {},
   "outputs": [
    {
     "name": "stdout",
     "output_type": "stream",
     "text": [
      "[-2.54109884e-21  4.23516474e-22  1.05879118e-22 ... -6.20385459e-25\n",
      "  0.00000000e+00 -1.65436123e-24]\n",
      "6.098637220230962e-20 -8.131516293641283e-20\n"
     ]
    }
   ],
   "source": [
    "rp = B - np.dot(A, x)\n",
    "print(rp)\n",
    "print(max(rp), min(rp))"
   ]
  },
  {
   "cell_type": "code",
   "execution_count": 27,
   "metadata": {},
   "outputs": [
    {
     "name": "stdout",
     "output_type": "stream",
     "text": [
      "[ 2.51351218e-29  1.98034293e-29 -3.25632319e-28 ...  2.09041071e-15\n",
      "  2.09716527e-14  4.94447931e-15]\n",
      "3.0446194196196473e-05 -3.0446194196196565e-05\n"
     ]
    }
   ],
   "source": [
    "rc = -1*np.multiply(x, s)\n",
    "print(rc)\n",
    "print(max(rc), min(rc))"
   ]
  },
  {
   "cell_type": "code",
   "execution_count": 7,
   "metadata": {},
   "outputs": [
    {
     "name": "stdout",
     "output_type": "stream",
     "text": [
      "3.0955848725463585e-24\n",
      "[ 3.85809603e-06  1.94884957e-06 -1.40604686e-07 ...  6.27123213e-10\n",
      "  6.29149578e-09  1.48334379e-09]\n"
     ]
    }
   ],
   "source": [
    "n = len(x)\n",
    "X = np.zeros((n, n))\n",
    "S = np.zeros((n, n))\n",
    "S_1 = np.zeros((n, n))\n",
    "for j in range(0, n):\n",
    "    X[j][j] = x[j]\n",
    "    S[j][j] = s[j]\n",
    "    ss = s[j]\n",
    "    if abs(ss) < 1e-10:\n",
    "        ss = 1e-10 \n",
    "    S_1[j][j] = 1.0/ss\n",
    "mu = np.dot(np.transpose(x), s)\n",
    "mu = mu/n\n",
    "\n",
    "print(mu)\n",
    "rd = C - s - np.dot(np.transpose(A), y)\n",
    "rp = B - np.dot(A, x)\n",
    "rc = np.zeros(n)\n",
    "for j in range(0, n):\n",
    "    rc[j] = -1.0*x[j]*s[j]\n",
    "\n",
    "D = S_1*X\n",
    "ADA = np.dot(A, np.dot(D, np.transpose(A)))\n",
    "AS = np.dot(A, S_1)\n",
    "#dy_aff = -1.0 * np.dot(np.linalg.inv(ADA), np.dot(AS, rc) - np.dot(A, np.dot(D, rd)) - rp)\n",
    "intm = np.dot(AS, rc) - np.dot(A, np.dot(D, rd)) - rp\n",
    "print(intm)"
   ]
  },
  {
   "cell_type": "code",
   "execution_count": 8,
   "metadata": {},
   "outputs": [
    {
     "name": "stdout",
     "output_type": "stream",
     "text": [
      "9.133858258859484e-05 -9.133858258859485e-05\n"
     ]
    }
   ],
   "source": [
    "print(max(intm), min(intm))"
   ]
  },
  {
   "cell_type": "code",
   "execution_count": 9,
   "metadata": {},
   "outputs": [
    {
     "name": "stdout",
     "output_type": "stream",
     "text": [
      "[False False False ... False False False]\n"
     ]
    }
   ],
   "source": [
    "print(np.isnan(intm) == True)"
   ]
  },
  {
   "cell_type": "code",
   "execution_count": 1,
   "metadata": {},
   "outputs": [
    {
     "ename": "NameError",
     "evalue": "name 'np' is not defined",
     "output_type": "error",
     "traceback": [
      "\u001b[0;31m---------------------------------------------------------------------------\u001b[0m",
      "\u001b[0;31mNameError\u001b[0m                                 Traceback (most recent call last)",
      "\u001b[0;32m<ipython-input-1-59cfffe6bba2>\u001b[0m in \u001b[0;36m<module>\u001b[0;34m\u001b[0m\n\u001b[0;32m----> 1\u001b[0;31m \u001b[0;32mfor\u001b[0m \u001b[0mi\u001b[0m \u001b[0;32min\u001b[0m \u001b[0mnp\u001b[0m\u001b[0;34m.\u001b[0m\u001b[0misnan\u001b[0m\u001b[0;34m(\u001b[0m\u001b[0mintm\u001b[0m\u001b[0;34m)\u001b[0m\u001b[0;34m:\u001b[0m\u001b[0;34m\u001b[0m\u001b[0;34m\u001b[0m\u001b[0m\n\u001b[0m\u001b[1;32m      2\u001b[0m     \u001b[0;32mif\u001b[0m \u001b[0mi\u001b[0m \u001b[0;34m==\u001b[0m \u001b[0;32mTrue\u001b[0m\u001b[0;34m:\u001b[0m\u001b[0;34m\u001b[0m\u001b[0;34m\u001b[0m\u001b[0m\n\u001b[1;32m      3\u001b[0m         \u001b[0mprint\u001b[0m\u001b[0;34m(\u001b[0m\u001b[0mi\u001b[0m\u001b[0;34m)\u001b[0m\u001b[0;34m\u001b[0m\u001b[0;34m\u001b[0m\u001b[0m\n",
      "\u001b[0;31mNameError\u001b[0m: name 'np' is not defined"
     ]
    }
   ],
   "source": [
    "for i in np.isnan(intm):\n",
    "    if i == True:\n",
    "        print(i)"
   ]
  },
  {
   "cell_type": "code",
   "execution_count": 7,
   "metadata": {},
   "outputs": [],
   "source": [
    "B = np.load(\"B_matrix.npy\")\n",
    "At = np.transpose(A)"
   ]
  },
  {
   "cell_type": "code",
   "execution_count": 17,
   "metadata": {},
   "outputs": [
    {
     "name": "stdout",
     "output_type": "stream",
     "text": [
      "(12879,)\n"
     ]
    }
   ],
   "source": [
    "x = 1e-10*np.ones(np.shape(At)[0])\n",
    "for i  in range(np.count_nonzero(B), np.shape(At)[0]):\n",
    "    x[i] = 0\n",
    "print(np.shape(x))"
   ]
  },
  {
   "cell_type": "code",
   "execution_count": 18,
   "metadata": {},
   "outputs": [
    {
     "name": "stdout",
     "output_type": "stream",
     "text": [
      "[-3.85808682e-06 -1.94882839e-06  1.40638990e-07 ...  0.00000000e+00\n",
      "  0.00000000e+00  0.00000000e+00]\n"
     ]
    }
   ],
   "source": [
    "xi = B - np.dot(A, x)\n",
    "print(xi)"
   ]
  },
  {
   "cell_type": "code",
   "execution_count": 11,
   "metadata": {},
   "outputs": [
    {
     "name": "stdout",
     "output_type": "stream",
     "text": [
      "602\n"
     ]
    }
   ],
   "source": [
    "print(np.count_nonzero(B))"
   ]
  },
  {
   "cell_type": "code",
   "execution_count": 19,
   "metadata": {},
   "outputs": [
    {
     "name": "stdout",
     "output_type": "stream",
     "text": [
      "-9.133858258858951e-05\n"
     ]
    }
   ],
   "source": [
    "AAt = np.dot(A, At)\n",
    "x = np.dot(np.linalg.inv(AAt), B)\n",
    "x = np.dot(At, x)\n",
    "print(min(x))"
   ]
  },
  {
   "cell_type": "code",
   "execution_count": 20,
   "metadata": {},
   "outputs": [],
   "source": [
    "from scipy.optimize import nnls"
   ]
  },
  {
   "cell_type": "code",
   "execution_count": 21,
   "metadata": {},
   "outputs": [],
   "source": [
    "x, rnorm = nnls(A, B)"
   ]
  },
  {
   "cell_type": "code",
   "execution_count": 41,
   "metadata": {},
   "outputs": [
    {
     "name": "stdout",
     "output_type": "stream",
     "text": [
      "1e-10\n"
     ]
    }
   ],
   "source": [
    "x = x + 1e-10\n",
    "print(min(x))"
   ]
  },
  {
   "cell_type": "code",
   "execution_count": 42,
   "metadata": {},
   "outputs": [
    {
     "name": "stdout",
     "output_type": "stream",
     "text": [
      "0.00018268027447553576\n",
      "1e-10 -1e-10\n"
     ]
    }
   ],
   "source": [
    "print(max(x))\n",
    "diff = B - np.dot(A, x)\n",
    "print(max(diff), min(diff))"
   ]
  },
  {
   "cell_type": "code",
   "execution_count": 26,
   "metadata": {},
   "outputs": [
    {
     "name": "stderr",
     "output_type": "stream",
     "text": [
      "/media/apk/84bd6553-82dd-4faa-9701-e84d64d75ed7/anaconda3/lib/python3.7/site-packages/ipykernel_launcher.py:2: FutureWarning: `rcond` parameter will change to the default of machine precision times ``max(M, N)`` where M and N are the input matrix dimensions.\n",
      "To use the future default and silence this warning we advise to pass `rcond=None`, to keep using the old, explicitly pass `rcond=-1`.\n",
      "  \n"
     ]
    }
   ],
   "source": [
    "s = 1e-8*np.zeros(np.shape(At)[0])\n",
    "y = np.linalg.lstsq(At, C - s)[0]"
   ]
  },
  {
   "cell_type": "code",
   "execution_count": 27,
   "metadata": {},
   "outputs": [
    {
     "name": "stdout",
     "output_type": "stream",
     "text": [
      "0.33333332335700017 -3.3333464857773875e-09\n"
     ]
    }
   ],
   "source": [
    "diff = C - s - np.dot(At, y)\n",
    "print(max(diff), min(diff))"
   ]
  },
  {
   "cell_type": "code",
   "execution_count": 34,
   "metadata": {},
   "outputs": [],
   "source": [
    "s = 0.3333*np.ones(np.shape(At)[0])\n"
   ]
  },
  {
   "cell_type": "code",
   "execution_count": 35,
   "metadata": {},
   "outputs": [
    {
     "name": "stdout",
     "output_type": "stream",
     "text": [
      "0.0 0.0\n"
     ]
    }
   ],
   "source": [
    "diff = C - s - np.dot(At, y)\n",
    "print(max(diff), min(diff))"
   ]
  },
  {
   "cell_type": "code",
   "execution_count": 36,
   "metadata": {},
   "outputs": [
    {
     "name": "stdout",
     "output_type": "stream",
     "text": [
      "1.0 0.0\n"
     ]
    }
   ],
   "source": [
    "print(max(s), min(s))"
   ]
  },
  {
   "cell_type": "code",
   "execution_count": 37,
   "metadata": {},
   "outputs": [
    {
     "name": "stdout",
     "output_type": "stream",
     "text": [
      "0.0 0.0\n"
     ]
    }
   ],
   "source": [
    "for i in range(0, len(s)):\n",
    "    if s[i] == 0.0:\n",
    "        s[i] = 1e-10\n",
    "y = np.linalg.solve(AAt, np.dot(A, C) - np.dot(A, s))\n",
    "diff = C - s - np.dot(At, y)\n",
    "print(max(diff), min(diff))"
   ]
  },
  {
   "cell_type": "code",
   "execution_count": 38,
   "metadata": {},
   "outputs": [
    {
     "name": "stdout",
     "output_type": "stream",
     "text": [
      "0.0 0.0\n"
     ]
    }
   ],
   "source": [
    "print(max(y), min(y))"
   ]
  },
  {
   "cell_type": "code",
   "execution_count": 39,
   "metadata": {},
   "outputs": [
    {
     "name": "stdout",
     "output_type": "stream",
     "text": [
      "1.0 1e-10\n"
     ]
    }
   ],
   "source": [
    "print(max(s), min(s))"
   ]
  },
  {
   "cell_type": "code",
   "execution_count": 43,
   "metadata": {},
   "outputs": [],
   "source": [
    "np.savetxt(\"x_initial.csv\", x, delimiter = \" \")\n",
    "np.savetxt(\"y_initial.csv\", y, delimiter = \" \")\n",
    "np.savetxt(\"s_initial.csv\", s, delimiter = \" \")"
   ]
  },
  {
   "cell_type": "code",
   "execution_count": 16,
   "metadata": {},
   "outputs": [],
   "source": [
    "deltax = max(-1.5*min(x), 0)\n",
    "deltas = max(-1.5*min(s), 0)\n",
    "\n",
    "deltaxx = deltax + 0.5*(np.dot(np.transpose(x + deltax), (s + deltas)))/(np.sum(s + deltas))\n",
    "deltass = deltas + 0.5*(np.dot(np.transpose(x + deltax), (s + deltas)))/(np.sum(x + deltax))"
   ]
  },
  {
   "cell_type": "code",
   "execution_count": 17,
   "metadata": {},
   "outputs": [
    {
     "name": "stdout",
     "output_type": "stream",
     "text": [
      "0.00011417322823573686 0.011712435735201239\n"
     ]
    }
   ],
   "source": [
    "x = x + deltaxx\n",
    "s = s + deltass\n",
    "\n",
    "print(min(x), min(s))"
   ]
  },
  {
   "cell_type": "code",
   "execution_count": 18,
   "metadata": {},
   "outputs": [
    {
     "name": "stdout",
     "output_type": "stream",
     "text": [
      "0.0002055118108243264 -0.00020551181082432637\n"
     ]
    }
   ],
   "source": [
    "print(np.max(B - np.dot(A, x)), np.min(B - np.dot(A, x)))"
   ]
  },
  {
   "cell_type": "code",
   "execution_count": 19,
   "metadata": {},
   "outputs": [],
   "source": [
    "np.savetxt(\"x_initial.csv\", x, delimiter = \" \")\n",
    "np.savetxt(\"y_initial.csv\", y, delimiter = \" \")\n",
    "np.savetxt(\"s_initial.csv\", s, delimiter = \" \")"
   ]
  },
  {
   "cell_type": "code",
   "execution_count": 8,
   "metadata": {},
   "outputs": [],
   "source": [
    "x_upd = np.loadtxt('x_upd.txt')"
   ]
  },
  {
   "cell_type": "code",
   "execution_count": 40,
   "metadata": {},
   "outputs": [
    {
     "name": "stdout",
     "output_type": "stream",
     "text": [
      "0.746835 2.20882e-08\n"
     ]
    }
   ],
   "source": [
    "print(np.max(x_upd), np.min(x_upd))"
   ]
  },
  {
   "cell_type": "code",
   "execution_count": 41,
   "metadata": {},
   "outputs": [
    {
     "name": "stdout",
     "output_type": "stream",
     "text": [
      "0.831133 1.16902e-08\n"
     ]
    }
   ],
   "source": [
    "s_upd = np.loadtxt('s_upd.txt')\n",
    "print(np.max(s_upd), np.min(s_upd))"
   ]
  },
  {
   "cell_type": "code",
   "execution_count": 42,
   "metadata": {},
   "outputs": [
    {
     "name": "stdout",
     "output_type": "stream",
     "text": [
      "(array([], dtype=int64),) (array([11757]),)\n"
     ]
    }
   ],
   "source": [
    "i = np.where(x_upd > 1)\n",
    "mx_loc = np.where(x_upd == max(x_upd))\n",
    "print(i, mx_loc)"
   ]
  },
  {
   "cell_type": "code",
   "execution_count": 43,
   "metadata": {},
   "outputs": [
    {
     "name": "stdout",
     "output_type": "stream",
     "text": [
      "(1, 903)\n"
     ]
    }
   ],
   "source": [
    "print(np.shape(np.where(s > 1e-1)))"
   ]
  },
  {
   "cell_type": "code",
   "execution_count": 12,
   "metadata": {},
   "outputs": [
    {
     "data": {
      "text/plain": [
       "[<matplotlib.lines.Line2D at 0x7f4b296847d0>]"
      ]
     },
     "execution_count": 12,
     "metadata": {},
     "output_type": "execute_result"
    },
    {
     "data": {
      "image/png": "[encoded data removed]",
      "text/plain": [
       "<Figure size 432x288 with 1 Axes>"
      ]
     },
     "metadata": {
      "needs_background": "light"
     },
     "output_type": "display_data"
    }
   ],
   "source": [
    "limit = 12879\n",
    "plt.plot(np.arange(0, limit), x_upd[:limit])"
   ]
  },
  {
   "cell_type": "code",
   "execution_count": 1,
   "metadata": {},
   "outputs": [
    {
     "ename": "NameError",
     "evalue": "name 'np' is not defined",
     "output_type": "error",
     "traceback": [
      "\u001b[0;31m---------------------------------------------------------------------------\u001b[0m",
      "\u001b[0;31mNameError\u001b[0m                                 Traceback (most recent call last)",
      "\u001b[0;32m<ipython-input-1-805f5aed9cc1>\u001b[0m in \u001b[0;36m<module>\u001b[0;34m\u001b[0m\n\u001b[0;32m----> 1\u001b[0;31m \u001b[0mprint\u001b[0m\u001b[0;34m(\u001b[0m\u001b[0mnp\u001b[0m\u001b[0;34m.\u001b[0m\u001b[0mcount_nonzero\u001b[0m\u001b[0;34m(\u001b[0m\u001b[0mAAtxx\u001b[0m\u001b[0;34m)\u001b[0m\u001b[0;34m)\u001b[0m\u001b[0;34m\u001b[0m\u001b[0;34m\u001b[0m\u001b[0m\n\u001b[0m",
      "\u001b[0;31mNameError\u001b[0m: name 'np' is not defined"
     ]
    }
   ],
   "source": [
    "print(np.count_nonzero(AAtxx))"
   ]
  },
  {
   "cell_type": "code",
   "execution_count": null,
   "metadata": {},
   "outputs": [],
   "source": []
  }
 ],
 "metadata": {
  "kernelspec": {
   "display_name": "Python 3",
   "language": "python",
   "name": "python3"
  },
  "language_info": {
   "codemirror_mode": {
    "name": "ipython",
    "version": 3
   },
   "file_extension": ".py",
   "mimetype": "text/x-python",
   "name": "python",
   "nbconvert_exporter": "python",
   "pygments_lexer": "ipython3",
   "version": "3.7.6"
  }
 },
 "nbformat": 4,
 "nbformat_minor": 4
}
